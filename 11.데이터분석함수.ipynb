{
 "cells": [
  {
   "cell_type": "markdown",
   "id": "67e2dedf",
   "metadata": {},
   "source": [
    "defaultdict"
   ]
  },
  {
   "cell_type": "code",
   "execution_count": 1,
   "id": "e42ce838",
   "metadata": {},
   "outputs": [
    {
     "name": "stdout",
     "output_type": "stream",
     "text": [
      "defaultdict(<function <lambda> at 0x000002CAFE35CB80>, {'A': {'count': 2, 'sum': 40}, 'B': {'count': 1, 'sum': 20}})\n"
     ]
    }
   ],
   "source": [
    "from collections import defaultdict\n",
    "\n",
    "# lambda를 사용한 defaultdict\n",
    "complex_dict = defaultdict(lambda: {'count': 0, 'sum': 0})\n",
    "data = [('A', 10), ('B', 20), ('A', 30)]\n",
    "\n",
    "for key, value in data:\n",
    "    complex_dict[key]['count'] += 1\n",
    "    complex_dict[key]['sum'] += value\n",
    "\n",
    "print(complex_dict) "
   ]
  },
  {
   "cell_type": "code",
   "execution_count": null,
   "id": "48ca2853",
   "metadata": {},
   "outputs": [
    {
     "data": {
      "text/plain": [
       "Counter({2: 1, 3: 1, 4: 1, 5: 1, 6: 1})"
      ]
     },
     "execution_count": 2,
     "metadata": {},
     "output_type": "execute_result"
    }
   ],
   "source": [
    "from collections import Counter\n",
    "\n",
    "list1 = [2,3,4,5,6]\n",
    "cnt = Counter(list1)\n",
    "cnt"
   ]
  },
  {
   "cell_type": "code",
   "execution_count": 3,
   "id": "3ea149ec",
   "metadata": {},
   "outputs": [
    {
     "data": {
      "text/plain": [
       "[(2, 1), (3, 1)]"
      ]
     },
     "execution_count": 3,
     "metadata": {},
     "output_type": "execute_result"
    }
   ],
   "source": [
    "cnt.most_common(2)"
   ]
  },
  {
   "cell_type": "code",
   "execution_count": 4,
   "id": "90475054",
   "metadata": {},
   "outputs": [
    {
     "data": {
      "text/plain": [
       "dict_items([(2, 1), (3, 1), (4, 1), (5, 1), (6, 1)])"
      ]
     },
     "execution_count": 4,
     "metadata": {},
     "output_type": "execute_result"
    }
   ],
   "source": [
    "cnt.items()"
   ]
  },
  {
   "cell_type": "code",
   "execution_count": null,
   "id": "b39e04a9",
   "metadata": {},
   "outputs": [
    {
     "data": {
      "text/plain": [
       "([1, 2, 3, [10, 11]], [4, 5, 6, 10, 11])"
      ]
     },
     "execution_count": 5,
     "metadata": {},
     "output_type": "execute_result"
    }
   ],
   "source": [
    "list1 = [1,2,3]\n",
    "list2 = [4,5,6]\n",
    "\n",
    "list1.append([10,11]) \n",
    "list2.extend([10,11])\n",
    "\n",
    "list1,list2"
   ]
  },
  {
   "cell_type": "code",
   "execution_count": null,
   "id": "745813b2",
   "metadata": {},
   "outputs": [],
   "source": []
  }
 ],
 "metadata": {
  "kernelspec": {
   "display_name": "hipython",
   "language": "python",
   "name": "python3"
  },
  "language_info": {
   "codemirror_mode": {
    "name": "ipython",
    "version": 3
   },
   "file_extension": ".py",
   "mimetype": "text/x-python",
   "name": "python",
   "nbconvert_exporter": "python",
   "pygments_lexer": "ipython3",
   "version": "3.12.9"
  }
 },
 "nbformat": 4,
 "nbformat_minor": 5
}
