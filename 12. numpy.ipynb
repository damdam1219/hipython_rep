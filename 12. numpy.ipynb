{
 "cells": [
  {
   "cell_type": "code",
   "execution_count": 2,
   "id": "e7b5c6d3",
   "metadata": {},
   "outputs": [
    {
     "name": "stdout",
     "output_type": "stream",
     "text": [
      "Collecting numpy\n",
      "  Downloading numpy-2.3.0-cp312-cp312-win_amd64.whl.metadata (60 kB)\n",
      "Downloading numpy-2.3.0-cp312-cp312-win_amd64.whl (12.7 MB)\n",
      "   ---------------------------------------- 0.0/12.7 MB ? eta -:--:--\n",
      "   --------- ------------------------------ 2.9/12.7 MB 16.8 MB/s eta 0:00:01\n",
      "   ------------------ --------------------- 6.0/12.7 MB 15.4 MB/s eta 0:00:01\n",
      "   ------------------------- -------------- 8.1/12.7 MB 13.6 MB/s eta 0:00:01\n",
      "   ----------------------------------- ---- 11.3/12.7 MB 14.1 MB/s eta 0:00:01\n",
      "   ---------------------------------------- 12.7/12.7 MB 14.3 MB/s eta 0:00:00\n",
      "Installing collected packages: numpy\n",
      "Successfully installed numpy-2.3.0\n",
      "Note: you may need to restart the kernel to use updated packages.\n"
     ]
    }
   ],
   "source": [
    "pip install numpy"
   ]
  },
  {
   "cell_type": "markdown",
   "id": "a9d4f266",
   "metadata": {},
   "source": [
    "# 넘파이의 사용\n",
    "데이터 분석 프로젝트에서 사용\n",
    "주로 수치형 데이터에서 사용, 통계데이터, 시각화데이터\n",
    "\n",
    "이미지 처리 프로젝트에서 이미지 분석\n",
    "\n",
    "게임, 시뮬레이션 프로그램: 수치시뮬레이션 등을 구현\n",
    "머신러닝, 딥러닝 모델에서 사용 : 금융데이터, 의료데이터, 실험데이터, 센서데이터 등"
   ]
  },
  {
   "cell_type": "code",
   "execution_count": 3,
   "id": "39742899",
   "metadata": {},
   "outputs": [],
   "source": [
    "import numpy as np"
   ]
  },
  {
   "cell_type": "code",
   "execution_count": 4,
   "id": "350d9013",
   "metadata": {},
   "outputs": [],
   "source": [
    "data = [\n",
    "    [120, 135, 150, 145],  # 제품A\n",
    "    [100, 110, 140, 130],  # 제품B\n",
    "    [90, 100, 95, 105] ]"
   ]
  },
  {
   "cell_type": "code",
   "execution_count": null,
   "id": "29a0f150",
   "metadata": {},
   "outputs": [
    {
     "data": {
      "text/plain": [
       "array([550, 480, 390])"
      ]
     },
     "execution_count": 7,
     "metadata": {},
     "output_type": "execute_result"
    }
   ],
   "source": [
    "sales_data = np.array(data)\n",
    "np.sum(sales_data,axis=1) # 총판매량"
   ]
  },
  {
   "cell_type": "code",
   "execution_count": 10,
   "id": "e29f9e68",
   "metadata": {},
   "outputs": [
    {
     "data": {
      "text/plain": [
       "array([7650, 8500, 9575, 9425])"
      ]
     },
     "execution_count": 10,
     "metadata": {},
     "output_type": "execute_result"
    }
   ],
   "source": [
    "profit = np.array([20,30,25])\n",
    "total_sales = np.dot(profit,sales_data) # 총판매금액\n",
    "total_sales"
   ]
  },
  {
   "cell_type": "markdown",
   "id": "b27b7bdf",
   "metadata": {},
   "source": [
    "# 이미지 처리"
   ]
  },
  {
   "cell_type": "code",
   "execution_count": 31,
   "id": "6e030fb4",
   "metadata": {},
   "outputs": [],
   "source": [
    "from PIL import Image"
   ]
  },
  {
   "cell_type": "code",
   "execution_count": 27,
   "id": "45b695fe",
   "metadata": {},
   "outputs": [
    {
     "name": "stdout",
     "output_type": "stream",
     "text": [
      "Requirement already satisfied: pillow in c:\\users\\admin\\miniconda3\\envs\\hipython\\lib\\site-packages (11.2.1)\n",
      "Note: you may need to restart the kernel to use updated packages.\n"
     ]
    }
   ],
   "source": [
    "pip install pillow"
   ]
  },
  {
   "cell_type": "code",
   "execution_count": 33,
   "id": "af352e1e",
   "metadata": {},
   "outputs": [],
   "source": [
    "img = Image.open(\"sample.jpg\")\n",
    "img_arr = np.array(img)\n",
    "\n",
    "new_img = np.clip(img_arr+10,0,255).astype(np.uint8)\n",
    "Image.fromarray(new_img).save('new_img2.jpg')"
   ]
  },
  {
   "cell_type": "code",
   "execution_count": 34,
   "id": "2f0973d7",
   "metadata": {},
   "outputs": [],
   "source": [
    "img = Image.open(\"sample.jpg\").convert('L')\n",
    "img_arr = np.array(img)\n",
    "\n",
    "new_img = np.clip(img_arr+10,0,255).astype(np.uint8)\n",
    "Image.fromarray(new_img).save('new_img.jpg')"
   ]
  },
  {
   "cell_type": "markdown",
   "id": "9c18f412",
   "metadata": {},
   "source": [
    "# 데이터 시뮬레이션"
   ]
  },
  {
   "cell_type": "code",
   "execution_count": 41,
   "id": "2c670e6a",
   "metadata": {},
   "outputs": [],
   "source": [
    "import matplotlib.pyplot as plt"
   ]
  },
  {
   "cell_type": "code",
   "execution_count": 40,
   "id": "4cb4d36b",
   "metadata": {},
   "outputs": [
    {
     "name": "stdout",
     "output_type": "stream",
     "text": [
      "Collecting matplotlib\n",
      "  Downloading matplotlib-3.10.3-cp312-cp312-win_amd64.whl.metadata (11 kB)\n",
      "Collecting contourpy>=1.0.1 (from matplotlib)\n",
      "  Downloading contourpy-1.3.2-cp312-cp312-win_amd64.whl.metadata (5.5 kB)\n",
      "Collecting cycler>=0.10 (from matplotlib)\n",
      "  Downloading cycler-0.12.1-py3-none-any.whl.metadata (3.8 kB)\n",
      "Collecting fonttools>=4.22.0 (from matplotlib)\n",
      "  Downloading fonttools-4.58.2-cp312-cp312-win_amd64.whl.metadata (108 kB)\n",
      "Collecting kiwisolver>=1.3.1 (from matplotlib)\n",
      "  Downloading kiwisolver-1.4.8-cp312-cp312-win_amd64.whl.metadata (6.3 kB)\n",
      "Requirement already satisfied: numpy>=1.23 in c:\\users\\admin\\miniconda3\\envs\\hipython\\lib\\site-packages (from matplotlib) (2.3.0)\n",
      "Requirement already satisfied: packaging>=20.0 in c:\\users\\admin\\miniconda3\\envs\\hipython\\lib\\site-packages (from matplotlib) (24.2)\n",
      "Requirement already satisfied: pillow>=8 in c:\\users\\admin\\miniconda3\\envs\\hipython\\lib\\site-packages (from matplotlib) (11.2.1)\n",
      "Collecting pyparsing>=2.3.1 (from matplotlib)\n",
      "  Downloading pyparsing-3.2.3-py3-none-any.whl.metadata (5.0 kB)\n",
      "Requirement already satisfied: python-dateutil>=2.7 in c:\\users\\admin\\miniconda3\\envs\\hipython\\lib\\site-packages (from matplotlib) (2.9.0.post0)\n",
      "Requirement already satisfied: six>=1.5 in c:\\users\\admin\\miniconda3\\envs\\hipython\\lib\\site-packages (from python-dateutil>=2.7->matplotlib) (1.17.0)\n",
      "Downloading matplotlib-3.10.3-cp312-cp312-win_amd64.whl (8.1 MB)\n",
      "   ---------------------------------------- 0.0/8.1 MB ? eta -:--:--\n",
      "   ---------- ----------------------------- 2.1/8.1 MB 14.7 MB/s eta 0:00:01\n",
      "   ------------------------ --------------- 5.0/8.1 MB 11.6 MB/s eta 0:00:01\n",
      "   ---------------------------------------- 8.1/8.1 MB 12.8 MB/s eta 0:00:00\n",
      "Downloading contourpy-1.3.2-cp312-cp312-win_amd64.whl (223 kB)\n",
      "Downloading cycler-0.12.1-py3-none-any.whl (8.3 kB)\n",
      "Downloading fonttools-4.58.2-cp312-cp312-win_amd64.whl (2.2 MB)\n",
      "   ---------------------------------------- 0.0/2.2 MB ? eta -:--:--\n",
      "   ---------------------------------------- 2.2/2.2 MB 20.9 MB/s eta 0:00:00\n",
      "Downloading kiwisolver-1.4.8-cp312-cp312-win_amd64.whl (71 kB)\n",
      "Downloading pyparsing-3.2.3-py3-none-any.whl (111 kB)\n",
      "Installing collected packages: pyparsing, kiwisolver, fonttools, cycler, contourpy, matplotlib\n",
      "\n",
      "   ------------- -------------------------- 2/6 [fonttools]\n",
      "   ------------- -------------------------- 2/6 [fonttools]\n",
      "   ------------- -------------------------- 2/6 [fonttools]\n",
      "   ------------- -------------------------- 2/6 [fonttools]\n",
      "   ------------- -------------------------- 2/6 [fonttools]\n",
      "   ------------- -------------------------- 2/6 [fonttools]\n",
      "   --------------------------------- ------ 5/6 [matplotlib]\n",
      "   --------------------------------- ------ 5/6 [matplotlib]\n",
      "   --------------------------------- ------ 5/6 [matplotlib]\n",
      "   --------------------------------- ------ 5/6 [matplotlib]\n",
      "   --------------------------------- ------ 5/6 [matplotlib]\n",
      "   --------------------------------- ------ 5/6 [matplotlib]\n",
      "   --------------------------------- ------ 5/6 [matplotlib]\n",
      "   --------------------------------- ------ 5/6 [matplotlib]\n",
      "   --------------------------------- ------ 5/6 [matplotlib]\n",
      "   ---------------------------------------- 6/6 [matplotlib]\n",
      "\n",
      "Successfully installed contourpy-1.3.2 cycler-0.12.1 fonttools-4.58.2 kiwisolver-1.4.8 matplotlib-3.10.3 pyparsing-3.2.3\n",
      "Note: you may need to restart the kernel to use updated packages.\n"
     ]
    }
   ],
   "source": [
    "pip install matplotlib"
   ]
  },
  {
   "cell_type": "code",
   "execution_count": 46,
   "id": "54c2ed0e",
   "metadata": {},
   "outputs": [
    {
     "data": {
      "text/plain": [
       "[<matplotlib.lines.Line2D at 0x232763b6660>]"
      ]
     },
     "execution_count": 46,
     "metadata": {},
     "output_type": "execute_result"
    },
    {
     "data": {
      "image/png": "[encoded data removed]",
      "text/plain": [
       "<Figure size 640x480 with 1 Axes>"
      ]
     },
     "metadata": {},
     "output_type": "display_data"
    }
   ],
   "source": [
    "# 1차원배열의 랜덤워크 시뮬레이션\n",
    "\n",
    "n_step = 1000\n",
    "step = np.random.choice([-1,1],size=n_step)\n",
    "walk = np.cumsum(step)\n",
    "\n",
    "plt.plot(walk)\n"
   ]
  },
  {
   "cell_type": "code",
   "execution_count": 48,
   "id": "c715dd5a",
   "metadata": {},
   "outputs": [
    {
     "name": "stdout",
     "output_type": "stream",
     "text": [
      "배열의 차원: 2\n",
      "배열의 형태: (3, 3)\n",
      "배열의 크기: 9\n",
      "배열의 데이터 타입: int64\n",
      "배열 요소의 크기: 8\n",
      "배열의 strides: (24, 8)\n"
     ]
    }
   ],
   "source": [
    "# 배열 생성\n",
    "arr = np.array([[1, 2, 3],\n",
    "                [4, 5, 6],\n",
    "                [7, 8, 9]])\n",
    "\n",
    "# 배열의 속성 확인\n",
    "print('배열의 차원:', arr.ndim)         # 2\n",
    "print('배열의 형태:', arr.shape)        # (3, 3)\n",
    "print('배열의 크기:', arr.size)         # 9\n",
    "print('배열의 데이터 타입:', arr.dtype) # int64\n",
    "print('배열 요소의 크기:', arr.itemsize) # 8 (바이트)\n",
    "print('배열의 strides:', arr.strides)   # (24, 8)"
   ]
  },
  {
   "cell_type": "code",
   "execution_count": 54,
   "id": "57778a40",
   "metadata": {},
   "outputs": [
    {
     "data": {
      "text/plain": [
       "list"
      ]
     },
     "execution_count": 54,
     "metadata": {},
     "output_type": "execute_result"
    }
   ],
   "source": [
    "tensor_list = [[[1,2,3,4],[1,2,3,4],[1,2,3,4]],  # 4,3,4\n",
    "               [[1,2,3,4],[1,2,3,4],[1,2,3,4]],  # \n",
    "               [[1,2,3,4],[1,2,3,4],[1,2,3,4]],\n",
    "               [[1,2,3,4],[1,2,3,4],[1,2,3,4]]]\n",
    "\n",
    "type(tensor_list)\n"
   ]
  },
  {
   "cell_type": "code",
   "execution_count": null,
   "id": "9a8c5383",
   "metadata": {},
   "outputs": [
    {
     "data": {
      "text/plain": [
       "(4, 3, 4)"
      ]
     },
     "execution_count": 53,
     "metadata": {},
     "output_type": "execute_result"
    }
   ],
   "source": [
    "np.array(tensor_list).shape # 3행 4열 4개"
   ]
  },
  {
   "cell_type": "code",
   "execution_count": 3,
   "id": "1405aee7",
   "metadata": {},
   "outputs": [
    {
     "data": {
      "text/plain": [
       "numpy.ndarray"
      ]
     },
     "execution_count": 3,
     "metadata": {},
     "output_type": "execute_result"
    }
   ],
   "source": [
    "# 2차원\n",
    "\n",
    "import numpy as np\n",
    "arr2 = np.array([[1, 2, 3],\n",
    "                [4, 5, 6],\n",
    "                [7, 8, 9]])\n",
    "\n",
    "type(arr2)\n"
   ]
  },
  {
   "cell_type": "code",
   "execution_count": 4,
   "id": "ba464834",
   "metadata": {},
   "outputs": [
    {
     "data": {
      "text/plain": [
       "numpy.ndarray"
      ]
     },
     "execution_count": 4,
     "metadata": {},
     "output_type": "execute_result"
    }
   ],
   "source": [
    "arr3 = np.array([1,2,3]) # 1차원\n",
    "\n",
    "type(arr3)"
   ]
  },
  {
   "cell_type": "code",
   "execution_count": null,
   "id": "fd3bbfb2",
   "metadata": {},
   "outputs": [
    {
     "data": {
      "text/plain": [
       "(dtype('int64'), dtype('int64'))"
      ]
     },
     "execution_count": 5,
     "metadata": {},
     "output_type": "execute_result"
    }
   ],
   "source": [
    "arr2.dtype,arr3.dtype "
   ]
  },
  {
   "cell_type": "code",
   "execution_count": 7,
   "id": "ea168851",
   "metadata": {},
   "outputs": [
    {
     "data": {
      "text/plain": [
       "(2006124597712, 2006631513904)"
      ]
     },
     "execution_count": 7,
     "metadata": {},
     "output_type": "execute_result"
    }
   ],
   "source": [
    "arr4 = np.array([1,2,3])\n",
    "\n",
    "id(arr3),id(arr4) # 똑같은거 여러개 만들 필요가 없다."
   ]
  },
  {
   "cell_type": "code",
   "execution_count": 9,
   "id": "f8ee65ea",
   "metadata": {},
   "outputs": [
    {
     "data": {
      "text/plain": [
       "(4, 3, 4)"
      ]
     },
     "execution_count": 9,
     "metadata": {},
     "output_type": "execute_result"
    }
   ],
   "source": [
    "# 3차원: 텐서를 위한 리스트\n",
    "tensor_list = [[[1,2,3,4],[1,2,3,4],[1,2,3,4]],  # 4,3,4\n",
    "               [[1,2,3,4],[1,2,3,4],[1,2,3,4]],  \n",
    "               [[1,2,3,4],[1,2,3,4],[1,2,3,4]],\n",
    "               [[1,2,3,4],[1,2,3,4],[1,2,3,4]]]\n",
    "\n",
    "arr1 = np.array(tensor_list)\n",
    "arr1.shape"
   ]
  },
  {
   "cell_type": "code",
   "execution_count": 11,
   "id": "3dd12b78",
   "metadata": {},
   "outputs": [
    {
     "data": {
      "text/plain": [
       "list"
      ]
     },
     "execution_count": 11,
     "metadata": {},
     "output_type": "execute_result"
    }
   ],
   "source": [
    "list2 = [1,2,3,4,'5']\n",
    "type(list2)"
   ]
  },
  {
   "cell_type": "code",
   "execution_count": 13,
   "id": "e953f5ab",
   "metadata": {},
   "outputs": [
    {
     "data": {
      "text/plain": [
       "dtype('<U21')"
      ]
     },
     "execution_count": 13,
     "metadata": {},
     "output_type": "execute_result"
    }
   ],
   "source": [
    "list2_np = np.array(list2)\n",
    "list2_np.dtype # U:문자열로 변환(유니코드)"
   ]
  },
  {
   "cell_type": "code",
   "execution_count": 14,
   "id": "efaea1d5",
   "metadata": {},
   "outputs": [
    {
     "data": {
      "text/plain": [
       "dtype('float64')"
      ]
     },
     "execution_count": 14,
     "metadata": {},
     "output_type": "execute_result"
    }
   ],
   "source": [
    "np.array(list2_np,dtype=float).dtype"
   ]
  },
  {
   "cell_type": "markdown",
   "id": "cf4cbf42",
   "metadata": {},
   "source": [
    "# shape 속성"
   ]
  },
  {
   "cell_type": "code",
   "execution_count": 16,
   "id": "0f56b76b",
   "metadata": {},
   "outputs": [
    {
     "data": {
      "text/plain": [
       "(8,)"
      ]
     },
     "execution_count": 16,
     "metadata": {},
     "output_type": "execute_result"
    }
   ],
   "source": [
    "list2 = [1,2,3,4,5,6,7,8]\n",
    "t_2 = np.array(list2)\n",
    "t_2.shape # 8개의 요소가 들어있음."
   ]
  },
  {
   "cell_type": "code",
   "execution_count": 18,
   "id": "609e10a2",
   "metadata": {},
   "outputs": [
    {
     "data": {
      "text/plain": [
       "((3, 3), 2)"
      ]
     },
     "execution_count": 18,
     "metadata": {},
     "output_type": "execute_result"
    }
   ],
   "source": [
    "list3 = np.array([[1, 2, 3],\n",
    "                [4, 5, 6],\n",
    "                [7, 8, 9]])\n",
    "\n",
    "list3.shape,list3.ndim"
   ]
  },
  {
   "cell_type": "code",
   "execution_count": 22,
   "id": "a75db9bf",
   "metadata": {},
   "outputs": [
    {
     "data": {
      "text/plain": [
       "array([[ 1,  2,  3],\n",
       "       [ 4,  5,  6],\n",
       "       [ 7,  8,  9],\n",
       "       [10, 11, 12]])"
      ]
     },
     "execution_count": 22,
     "metadata": {},
     "output_type": "execute_result"
    }
   ],
   "source": [
    "list4 = range(1,13)\n",
    "np.array(list4).reshape((4,3))"
   ]
  },
  {
   "cell_type": "code",
   "execution_count": 31,
   "id": "3b11ced4",
   "metadata": {},
   "outputs": [
    {
     "data": {
      "text/plain": [
       "array([[1],\n",
       "       [2],\n",
       "       [3]])"
      ]
     },
     "execution_count": 31,
     "metadata": {},
     "output_type": "execute_result"
    }
   ],
   "source": [
    "list4 = np.array([1,2,3])\n",
    "list4.reshape(1,3) # 2차원으로 바꿈.\n",
    "list4.reshape(3,1)"
   ]
  },
  {
   "cell_type": "code",
   "execution_count": 25,
   "id": "65c5c94f",
   "metadata": {},
   "outputs": [
    {
     "data": {
      "text/plain": [
       "array([2])"
      ]
     },
     "execution_count": 25,
     "metadata": {},
     "output_type": "execute_result"
    }
   ],
   "source": [
    "list4[np.newaxis,1]"
   ]
  },
  {
   "cell_type": "code",
   "execution_count": 26,
   "id": "8aee5b72",
   "metadata": {},
   "outputs": [
    {
     "data": {
      "text/plain": [
       "array([[1, 2, 3]])"
      ]
     },
     "execution_count": 26,
     "metadata": {},
     "output_type": "execute_result"
    }
   ],
   "source": [
    "list4[np.newaxis,:]"
   ]
  },
  {
   "cell_type": "code",
   "execution_count": 27,
   "id": "da8330bb",
   "metadata": {},
   "outputs": [
    {
     "data": {
      "text/plain": [
       "array([[1],\n",
       "       [2],\n",
       "       [3]])"
      ]
     },
     "execution_count": 27,
     "metadata": {},
     "output_type": "execute_result"
    }
   ],
   "source": [
    "list4[:,np.newaxis]"
   ]
  },
  {
   "cell_type": "code",
   "execution_count": 33,
   "id": "73f7c538",
   "metadata": {},
   "outputs": [
    {
     "data": {
      "text/plain": [
       "(2, 3)"
      ]
     },
     "execution_count": 33,
     "metadata": {},
     "output_type": "execute_result"
    }
   ],
   "source": [
    "np.arange(1,7).reshape((2,3)).shape"
   ]
  },
  {
   "cell_type": "code",
   "execution_count": 36,
   "id": "7edba947",
   "metadata": {},
   "outputs": [],
   "source": [
    "list5 = np.arange(1,25).reshape((2,3,4))"
   ]
  },
  {
   "cell_type": "code",
   "execution_count": 42,
   "id": "d8142359",
   "metadata": {},
   "outputs": [
    {
     "data": {
      "text/plain": [
       "array([ 1,  2,  3,  4,  5,  6,  7,  8,  9, 10, 11, 12, 13, 14, 15, 16, 17,\n",
       "       18, 19, 20, 21, 22, 23, 24])"
      ]
     },
     "execution_count": 42,
     "metadata": {},
     "output_type": "execute_result"
    }
   ],
   "source": [
    "list5.reshape((24,))"
   ]
  },
  {
   "cell_type": "code",
   "execution_count": 43,
   "id": "be8b15df",
   "metadata": {},
   "outputs": [
    {
     "data": {
      "text/plain": [
       "array([ 1,  2,  3,  4,  5,  6,  7,  8,  9, 10, 11, 12, 13, 14, 15, 16, 17,\n",
       "       18, 19, 20, 21, 22, 23, 24])"
      ]
     },
     "execution_count": 43,
     "metadata": {},
     "output_type": "execute_result"
    }
   ],
   "source": [
    "list5.reshape((-1))"
   ]
  },
  {
   "cell_type": "code",
   "execution_count": 45,
   "id": "8243b757",
   "metadata": {},
   "outputs": [
    {
     "name": "stdout",
     "output_type": "stream",
     "text": [
      "[[1. 0. 0.]\n",
      " [0. 1. 0.]\n",
      " [0. 0. 1.]]\n"
     ]
    }
   ],
   "source": [
    "identity_matrix = np.identity(3)\n",
    "print(identity_matrix)"
   ]
  },
  {
   "cell_type": "code",
   "execution_count": 46,
   "id": "87488cbd",
   "metadata": {},
   "outputs": [
    {
     "name": "stdout",
     "output_type": "stream",
     "text": [
      "[[1 0 0]\n",
      " [0 2 0]\n",
      " [0 0 3]]\n"
     ]
    }
   ],
   "source": [
    "diagonal_matrix = np.diag([1,2,3])\n",
    "print(diagonal_matrix)"
   ]
  },
  {
   "cell_type": "code",
   "execution_count": null,
   "id": "8c41d7ed",
   "metadata": {},
   "outputs": [
    {
     "name": "stdout",
     "output_type": "stream",
     "text": [
      "[0 4 8]\n"
     ]
    }
   ],
   "source": [
    "a = np.arange(9).reshape(3,3)\n",
    "diagonal_matrix_value = np.diag(a)\n",
    "print(diagonal_matrix_value) # 대각선 원소만 뽑아서 array를 만듬."
   ]
  },
  {
   "cell_type": "code",
   "execution_count": 48,
   "id": "81f95ec7",
   "metadata": {},
   "outputs": [
    {
     "data": {
      "text/plain": [
       "array([[0, 1, 2],\n",
       "       [3, 4, 5],\n",
       "       [6, 7, 8]])"
      ]
     },
     "execution_count": 48,
     "metadata": {},
     "output_type": "execute_result"
    }
   ],
   "source": [
    "a"
   ]
  },
  {
   "cell_type": "code",
   "execution_count": null,
   "id": "9422c623",
   "metadata": {},
   "outputs": [
    {
     "name": "stdout",
     "output_type": "stream",
     "text": [
      "[[1. 0. 0.]\n",
      " [0. 1. 0.]\n",
      " [0. 0. 1.]\n",
      " [0. 0. 0.]]\n"
     ]
    }
   ],
   "source": [
    "rect_eye = np.eye(4,3) # 단위행렬의 대각선 위치를 조절할 수 있다는 점에서 유연하다.\n",
    "print(rect_eye)"
   ]
  },
  {
   "cell_type": "code",
   "execution_count": null,
   "id": "92c7b0e1",
   "metadata": {},
   "outputs": [
    {
     "name": "stdout",
     "output_type": "stream",
     "text": [
      "[[0. 0. 0.]\n",
      " [1. 0. 0.]\n",
      " [0. 1. 0.]]\n"
     ]
    }
   ],
   "source": [
    "shifted_eye = np.eye(3, k=-1)\n",
    "print(shifted_eye) # k가 음수면 아래로 이동, 양수이면 위로 이동"
   ]
  },
  {
   "cell_type": "code",
   "execution_count": null,
   "id": "a45b5f3a",
   "metadata": {},
   "outputs": [
    {
     "name": "stdout",
     "output_type": "stream",
     "text": [
      "원본 배열의 shape: (2, 3)\n",
      "zeros_like 결과:\n",
      " [[0 0 0]\n",
      " [0 0 0]]\n",
      "ones_like 결과:\n",
      " [[1 1 1]\n",
      " [1 1 1]]\n",
      "full_like 결과:\n",
      " [[7 7 7]\n",
      " [7 7 7]]\n",
      "[[1 2 3]\n",
      " [4 5 6]]\n"
     ]
    }
   ],
   "source": [
    "# 기존 배열\n",
    "arr = np.array([[1, 2, 3], [4, 5, 6]])\n",
    "\n",
    "# empty_like(): 초기화되지 않은 배열 생성\n",
    "empty_arr = np.empty_like(arr)\n",
    "\n",
    "# zeros_like(): 0으로 채워진 배열 생성\n",
    "zeros_arr = np.zeros_like(arr)\n",
    "\n",
    "# ones_like(): 1로 채워진 배열 생성\n",
    "ones_arr = np.ones_like(arr)\n",
    "\n",
    "# full_like(): 지정된 값으로 채워진 배열 생성\n",
    "full_arr = np.full_like(arr, 7)  # 7로 채워진 배열\n",
    "\n",
    "print(\"원본 배열의 shape:\", arr.shape)\n",
    "print(\"zeros_like 결과:\\n\", zeros_arr)\n",
    "print(\"ones_like 결과:\\n\", ones_arr)\n",
    "print(\"full_like 결과:\\n\", full_arr)"
   ]
  },
  {
   "cell_type": "code",
   "execution_count": null,
   "id": "e2ce6a5e",
   "metadata": {},
   "outputs": [
    {
     "name": "stdout",
     "output_type": "stream",
     "text": [
      "변환 전: [1.1 2.2 3.3] float64\n",
      "변환 후: [1 2 3] int32\n"
     ]
    }
   ],
   "source": [
    "float_arr = np.array([1.1, 2.2, 3.3])\n",
    "int_arr = float_arr.astype(np.int32)  # 실수를 정수로 변환\n",
    "print(\"변환 전:\", float_arr, float_arr.dtype)\n",
    "print(\"변환 후:\", int_arr, int_arr.dtype)"
   ]
  },
  {
   "cell_type": "code",
   "execution_count": null,
   "id": "a09ba8fd",
   "metadata": {},
   "outputs": [
    {
     "data": {
      "text/plain": [
       "[1, 2, 3, 4, 5, 1, 2, 3, 4, 5]"
      ]
     },
     "execution_count": 57,
     "metadata": {},
     "output_type": "execute_result"
    }
   ],
   "source": [
    "# 파이썬 자료형과의 비교\n",
    "\n",
    "lst_data = [1,2,3,4,5] # __add__, append(),extend()\n",
    "lst_data + lst_data"
   ]
  },
  {
   "cell_type": "code",
   "execution_count": null,
   "id": "c7f40eb6",
   "metadata": {},
   "outputs": [
    {
     "data": {
      "text/plain": [
       "array([ 1,  4,  9, 16, 25])"
      ]
     },
     "execution_count": 71,
     "metadata": {},
     "output_type": "execute_result"
    }
   ],
   "source": [
    "# 요소별 연산\n",
    "a1 = np.array(lst_data)\n",
    "a2 = np.array([1,2,3,4,5])\n",
    "a1 * a2 # a1과 a2의 원소의 개수가 다르면 요소별 계산를 할 수 없다.\n"
   ]
  },
  {
   "cell_type": "code",
   "execution_count": 72,
   "id": "c00081f2",
   "metadata": {},
   "outputs": [
    {
     "data": {
      "text/plain": [
       "array([ 2,  5, 10, 17, 26])"
      ]
     },
     "execution_count": 72,
     "metadata": {},
     "output_type": "execute_result"
    }
   ],
   "source": [
    "a1 * a2 + 1"
   ]
  },
  {
   "cell_type": "code",
   "execution_count": null,
   "id": "a9e3d334",
   "metadata": {},
   "outputs": [
    {
     "data": {
      "text/plain": [
       "array([ 2,  4,  6,  8, 10])"
      ]
     },
     "execution_count": 73,
     "metadata": {},
     "output_type": "execute_result"
    }
   ],
   "source": [
    "# 브로드캐스팅: 크기가 다른 배열에서 작은 쪽이 큰 쪽을 기준으로 크기를 확장하는 것\n",
    "\n",
    "a1 * 2 # 2,2,2,2,2"
   ]
  },
  {
   "cell_type": "code",
   "execution_count": 78,
   "id": "deb284d0",
   "metadata": {},
   "outputs": [
    {
     "data": {
      "text/plain": [
       "array([0, 1, 2])"
      ]
     },
     "execution_count": 78,
     "metadata": {},
     "output_type": "execute_result"
    }
   ],
   "source": [
    "a_array = np.arange(3) # 1차원\n",
    "b_array = np.arange(3)[:,np.newaxis] #2차원\n",
    "a_array"
   ]
  },
  {
   "cell_type": "code",
   "execution_count": null,
   "id": "45489303",
   "metadata": {},
   "outputs": [
    {
     "data": {
      "text/plain": [
       "array([[0, 0, 0],\n",
       "       [0, 1, 2],\n",
       "       [0, 2, 4]])"
      ]
     },
     "execution_count": 81,
     "metadata": {},
     "output_type": "execute_result"
    }
   ],
   "source": [
    "a_array * b_array # 행과 열을 바꿔야하는데 요소의 수가 맞지않아 배열을 바꾸지 못하면 연산이 되지 않음"
   ]
  },
  {
   "cell_type": "code",
   "execution_count": 82,
   "id": "4e70e533",
   "metadata": {},
   "outputs": [
    {
     "name": "stdout",
     "output_type": "stream",
     "text": [
      "덧셈:\n",
      " [[ 6  8]\n",
      " [10 12]]\n",
      "뺄셈:\n",
      " [[-4 -4]\n",
      " [-4 -4]]\n",
      "곱셈:\n",
      " [[ 5 12]\n",
      " [21 32]]\n",
      "나눗셈:\n",
      " [[0.2        0.33333333]\n",
      " [0.42857143 0.5       ]]\n"
     ]
    }
   ],
   "source": [
    "a = np.array([[1, 2], [3, 4]])\n",
    "b = np.array([[5, 6], [7, 8]])\n",
    "\n",
    "print(\"덧셈:\\n\", a + b)\n",
    "print(\"뺄셈:\\n\", a - b)\n",
    "print(\"곱셈:\\n\", a * b)\n",
    "print(\"나눗셈:\\n\", a / b)\n",
    "\n",
    "# shape이 다른 경우 오류 발생\n",
    "c = np.array([[1, 2, 3], [4, 5, 6]])  # shape: (2, 3)\n",
    "d = np.array([[1, 2], [3, 4]])   "
   ]
  },
  {
   "cell_type": "code",
   "execution_count": null,
   "id": "bc183829",
   "metadata": {},
   "outputs": [
    {
     "ename": "ValueError",
     "evalue": "operands could not be broadcast together with shapes (6,) (5,) ",
     "output_type": "error",
     "traceback": [
      "\u001b[31m---------------------------------------------------------------------------\u001b[39m",
      "\u001b[31mValueError\u001b[39m                                Traceback (most recent call last)",
      "\u001b[36mCell\u001b[39m\u001b[36m \u001b[39m\u001b[32mIn[85]\u001b[39m\u001b[32m, line 9\u001b[39m\n\u001b[32m      3\u001b[39m arr2 = np.array([\u001b[32m1\u001b[39m, \u001b[32m3\u001b[39m, \u001b[32m3\u001b[39m, \u001b[32m0\u001b[39m, \u001b[32m5\u001b[39m])\n\u001b[32m      5\u001b[39m \u001b[38;5;66;03m# 같음 비교\u001b[39;00m\n\u001b[32m      6\u001b[39m \u001b[38;5;66;03m# print(\"같음:\", arr1 == arr2)  # [ True False  True False  True]\u001b[39;00m\n\u001b[32m      7\u001b[39m \n\u001b[32m      8\u001b[39m \u001b[38;5;66;03m# 크기 비교\u001b[39;00m\n\u001b[32m----> \u001b[39m\u001b[32m9\u001b[39m \u001b[38;5;28mprint\u001b[39m(\u001b[33m\"\u001b[39m\u001b[33m더 큼:\u001b[39m\u001b[33m\"\u001b[39m, arr1 > arr2)  \u001b[38;5;66;03m# [False False False  True False]\u001b[39;00m\n\u001b[32m     10\u001b[39m \u001b[38;5;28mprint\u001b[39m(\u001b[33m\"\u001b[39m\u001b[33m더 작음:\u001b[39m\u001b[33m\"\u001b[39m, arr1 < arr2)  \u001b[38;5;66;03m# [False  True False False False]\u001b[39;00m\n\u001b[32m     12\u001b[39m \u001b[38;5;66;03m# 논리 연산 결합\u001b[39;00m\n",
      "\u001b[31mValueError\u001b[39m: operands could not be broadcast together with shapes (6,) (5,) "
     ]
    }
   ],
   "source": [
    "# 비교 연산 예제\n",
    "arr1 = np.array([1, 2, 3, 4, 5, 6])\n",
    "arr2 = np.array([1, 3, 3, 0, 5])\n",
    "\n",
    "# 같음 비교\n",
    "# print(\"같음:\", arr1 == arr2)  # [ True False  True False  True]\n",
    "\n",
    "# 크기 비교\n",
    "print(\"더 큼:\", arr1 > arr2)  # [False False False  True False]\n",
    "print(\"더 작음:\", arr1 < arr2)  # [False  True False False False]\n",
    "\n",
    "# 논리 연산 결합\n",
    "mask = (arr1 >= 3) & (arr2 <= 4)\n",
    "print(\"복합 조건:\", mask)  # [False False  True False False]\n",
    "\n",
    "# 비교 결과를 이용한 필터링\n",
    "filtered = arr1[arr1 > 3]\n",
    "print(\"3보다 큰 값:\", filtered)  # [4 5]\n"
   ]
  },
  {
   "cell_type": "code",
   "execution_count": null,
   "id": "143653f6",
   "metadata": {},
   "outputs": [],
   "source": []
  }
 ],
 "metadata": {
  "kernelspec": {
   "display_name": "hipython",
   "language": "python",
   "name": "python3"
  },
  "language_info": {
   "codemirror_mode": {
    "name": "ipython",
    "version": 3
   },
   "file_extension": ".py",
   "mimetype": "text/x-python",
   "name": "python",
   "nbconvert_exporter": "python",
   "pygments_lexer": "ipython3",
   "version": "3.12.9"
  }
 },
 "nbformat": 4,
 "nbformat_minor": 5
}
