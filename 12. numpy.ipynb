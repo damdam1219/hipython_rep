{
 "cells": [
  {
   "cell_type": "code",
   "execution_count": 2,
   "id": "e7b5c6d3",
   "metadata": {},
   "outputs": [
    {
     "name": "stdout",
     "output_type": "stream",
     "text": [
      "Collecting numpy\n",
      "  Downloading numpy-2.3.0-cp312-cp312-win_amd64.whl.metadata (60 kB)\n",
      "Downloading numpy-2.3.0-cp312-cp312-win_amd64.whl (12.7 MB)\n",
      "   ---------------------------------------- 0.0/12.7 MB ? eta -:--:--\n",
      "   --------- ------------------------------ 2.9/12.7 MB 16.8 MB/s eta 0:00:01\n",
      "   ------------------ --------------------- 6.0/12.7 MB 15.4 MB/s eta 0:00:01\n",
      "   ------------------------- -------------- 8.1/12.7 MB 13.6 MB/s eta 0:00:01\n",
      "   ----------------------------------- ---- 11.3/12.7 MB 14.1 MB/s eta 0:00:01\n",
      "   ---------------------------------------- 12.7/12.7 MB 14.3 MB/s eta 0:00:00\n",
      "Installing collected packages: numpy\n",
      "Successfully installed numpy-2.3.0\n",
      "Note: you may need to restart the kernel to use updated packages.\n"
     ]
    }
   ],
   "source": [
    "pip install numpy"
   ]
  },
  {
   "cell_type": "markdown",
   "id": "a9d4f266",
   "metadata": {},
   "source": [
    "# 넘파이의 사용\n",
    "데이터 분석 프로젝트에서 사용\n",
    "주로 수치형 데이터에서 사용, 통계데이터, 시각화데이터\n",
    "\n",
    "이미지 처리 프로젝트에서 이미지 분석\n",
    "\n",
    "게임, 시뮬레이션 프로그램: 수치시뮬레이션 등을 구현\n",
    "머신러닝, 딥러닝 모델에서 사용 : 금융데이터, 의료데이터, 실험데이터, 센서데이터 등"
   ]
  },
  {
   "cell_type": "code",
   "execution_count": 3,
   "id": "39742899",
   "metadata": {},
   "outputs": [],
   "source": [
    "import numpy as np"
   ]
  },
  {
   "cell_type": "code",
   "execution_count": 4,
   "id": "350d9013",
   "metadata": {},
   "outputs": [],
   "source": [
    "data = [\n",
    "    [120, 135, 150, 145],  # 제품A\n",
    "    [100, 110, 140, 130],  # 제품B\n",
    "    [90, 100, 95, 105] ]"
   ]
  },
  {
   "cell_type": "code",
   "execution_count": null,
   "id": "29a0f150",
   "metadata": {},
   "outputs": [
    {
     "data": {
      "text/plain": [
       "array([550, 480, 390])"
      ]
     },
     "execution_count": 7,
     "metadata": {},
     "output_type": "execute_result"
    }
   ],
   "source": [
    "sales_data = np.array(data)\n",
    "np.sum(sales_data,axis=1) # 총판매량"
   ]
  },
  {
   "cell_type": "code",
   "execution_count": 10,
   "id": "e29f9e68",
   "metadata": {},
   "outputs": [
    {
     "data": {
      "text/plain": [
       "array([7650, 8500, 9575, 9425])"
      ]
     },
     "execution_count": 10,
     "metadata": {},
     "output_type": "execute_result"
    }
   ],
   "source": [
    "profit = np.array([20,30,25])\n",
    "total_sales = np.dot(profit,sales_data) # 총판매금액\n",
    "total_sales"
   ]
  },
  {
   "cell_type": "markdown",
   "id": "b27b7bdf",
   "metadata": {},
   "source": [
    "# 이미지 처리"
   ]
  },
  {
   "cell_type": "code",
   "execution_count": 31,
   "id": "6e030fb4",
   "metadata": {},
   "outputs": [],
   "source": [
    "from PIL import Image"
   ]
  },
  {
   "cell_type": "code",
   "execution_count": 27,
   "id": "45b695fe",
   "metadata": {},
   "outputs": [
    {
     "name": "stdout",
     "output_type": "stream",
     "text": [
      "Requirement already satisfied: pillow in c:\\users\\admin\\miniconda3\\envs\\hipython\\lib\\site-packages (11.2.1)\n",
      "Note: you may need to restart the kernel to use updated packages.\n"
     ]
    }
   ],
   "source": [
    "pip install pillow"
   ]
  },
  {
   "cell_type": "code",
   "execution_count": 33,
   "id": "af352e1e",
   "metadata": {},
   "outputs": [],
   "source": [
    "img = Image.open(\"sample.jpg\")\n",
    "img_arr = np.array(img)\n",
    "\n",
    "new_img = np.clip(img_arr+10,0,255).astype(np.uint8)\n",
    "Image.fromarray(new_img).save('new_img2.jpg')"
   ]
  },
  {
   "cell_type": "code",
   "execution_count": 34,
   "id": "2f0973d7",
   "metadata": {},
   "outputs": [],
   "source": [
    "img = Image.open(\"sample.jpg\").convert('L')\n",
    "img_arr = np.array(img)\n",
    "\n",
    "new_img = np.clip(img_arr+10,0,255).astype(np.uint8)\n",
    "Image.fromarray(new_img).save('new_img.jpg')"
   ]
  },
  {
   "cell_type": "markdown",
   "id": "9c18f412",
   "metadata": {},
   "source": [
    "# 데이터 시뮬레이션"
   ]
  },
  {
   "cell_type": "code",
   "execution_count": 41,
   "id": "2c670e6a",
   "metadata": {},
   "outputs": [],
   "source": [
    "import matplotlib.pyplot as plt"
   ]
  },
  {
   "cell_type": "code",
   "execution_count": 40,
   "id": "4cb4d36b",
   "metadata": {},
   "outputs": [
    {
     "name": "stdout",
     "output_type": "stream",
     "text": [
      "Collecting matplotlib\n",
      "  Downloading matplotlib-3.10.3-cp312-cp312-win_amd64.whl.metadata (11 kB)\n",
      "Collecting contourpy>=1.0.1 (from matplotlib)\n",
      "  Downloading contourpy-1.3.2-cp312-cp312-win_amd64.whl.metadata (5.5 kB)\n",
      "Collecting cycler>=0.10 (from matplotlib)\n",
      "  Downloading cycler-0.12.1-py3-none-any.whl.metadata (3.8 kB)\n",
      "Collecting fonttools>=4.22.0 (from matplotlib)\n",
      "  Downloading fonttools-4.58.2-cp312-cp312-win_amd64.whl.metadata (108 kB)\n",
      "Collecting kiwisolver>=1.3.1 (from matplotlib)\n",
      "  Downloading kiwisolver-1.4.8-cp312-cp312-win_amd64.whl.metadata (6.3 kB)\n",
      "Requirement already satisfied: numpy>=1.23 in c:\\users\\admin\\miniconda3\\envs\\hipython\\lib\\site-packages (from matplotlib) (2.3.0)\n",
      "Requirement already satisfied: packaging>=20.0 in c:\\users\\admin\\miniconda3\\envs\\hipython\\lib\\site-packages (from matplotlib) (24.2)\n",
      "Requirement already satisfied: pillow>=8 in c:\\users\\admin\\miniconda3\\envs\\hipython\\lib\\site-packages (from matplotlib) (11.2.1)\n",
      "Collecting pyparsing>=2.3.1 (from matplotlib)\n",
      "  Downloading pyparsing-3.2.3-py3-none-any.whl.metadata (5.0 kB)\n",
      "Requirement already satisfied: python-dateutil>=2.7 in c:\\users\\admin\\miniconda3\\envs\\hipython\\lib\\site-packages (from matplotlib) (2.9.0.post0)\n",
      "Requirement already satisfied: six>=1.5 in c:\\users\\admin\\miniconda3\\envs\\hipython\\lib\\site-packages (from python-dateutil>=2.7->matplotlib) (1.17.0)\n",
      "Downloading matplotlib-3.10.3-cp312-cp312-win_amd64.whl (8.1 MB)\n",
      "   ---------------------------------------- 0.0/8.1 MB ? eta -:--:--\n",
      "   ---------- ----------------------------- 2.1/8.1 MB 14.7 MB/s eta 0:00:01\n",
      "   ------------------------ --------------- 5.0/8.1 MB 11.6 MB/s eta 0:00:01\n",
      "   ---------------------------------------- 8.1/8.1 MB 12.8 MB/s eta 0:00:00\n",
      "Downloading contourpy-1.3.2-cp312-cp312-win_amd64.whl (223 kB)\n",
      "Downloading cycler-0.12.1-py3-none-any.whl (8.3 kB)\n",
      "Downloading fonttools-4.58.2-cp312-cp312-win_amd64.whl (2.2 MB)\n",
      "   ---------------------------------------- 0.0/2.2 MB ? eta -:--:--\n",
      "   ---------------------------------------- 2.2/2.2 MB 20.9 MB/s eta 0:00:00\n",
      "Downloading kiwisolver-1.4.8-cp312-cp312-win_amd64.whl (71 kB)\n",
      "Downloading pyparsing-3.2.3-py3-none-any.whl (111 kB)\n",
      "Installing collected packages: pyparsing, kiwisolver, fonttools, cycler, contourpy, matplotlib\n",
      "\n",
      "   ------------- -------------------------- 2/6 [fonttools]\n",
      "   ------------- -------------------------- 2/6 [fonttools]\n",
      "   ------------- -------------------------- 2/6 [fonttools]\n",
      "   ------------- -------------------------- 2/6 [fonttools]\n",
      "   ------------- -------------------------- 2/6 [fonttools]\n",
      "   ------------- -------------------------- 2/6 [fonttools]\n",
      "   --------------------------------- ------ 5/6 [matplotlib]\n",
      "   --------------------------------- ------ 5/6 [matplotlib]\n",
      "   --------------------------------- ------ 5/6 [matplotlib]\n",
      "   --------------------------------- ------ 5/6 [matplotlib]\n",
      "   --------------------------------- ------ 5/6 [matplotlib]\n",
      "   --------------------------------- ------ 5/6 [matplotlib]\n",
      "   --------------------------------- ------ 5/6 [matplotlib]\n",
      "   --------------------------------- ------ 5/6 [matplotlib]\n",
      "   --------------------------------- ------ 5/6 [matplotlib]\n",
      "   ---------------------------------------- 6/6 [matplotlib]\n",
      "\n",
      "Successfully installed contourpy-1.3.2 cycler-0.12.1 fonttools-4.58.2 kiwisolver-1.4.8 matplotlib-3.10.3 pyparsing-3.2.3\n",
      "Note: you may need to restart the kernel to use updated packages.\n"
     ]
    }
   ],
   "source": [
    "pip install matplotlib"
   ]
  },
  {
   "cell_type": "code",
   "execution_count": 46,
   "id": "54c2ed0e",
   "metadata": {},
   "outputs": [
    {
     "data": {
      "text/plain": [
       "[<matplotlib.lines.Line2D at 0x232763b6660>]"
      ]
     },
     "execution_count": 46,
     "metadata": {},
     "output_type": "execute_result"
    },
    {
     "data": {
      "image/png": "[encoded data removed]",
      "text/plain": [
       "<Figure size 640x480 with 1 Axes>"
      ]
     },
     "metadata": {},
     "output_type": "display_data"
    }
   ],
   "source": [
    "# 1차원배열의 랜덤워크 시뮬레이션\n",
    "\n",
    "n_step = 1000\n",
    "step = np.random.choice([-1,1],size=n_step)\n",
    "walk = np.cumsum(step)\n",
    "\n",
    "plt.plot(walk)\n"
   ]
  },
  {
   "cell_type": "code",
   "execution_count": 48,
   "id": "c715dd5a",
   "metadata": {},
   "outputs": [
    {
     "name": "stdout",
     "output_type": "stream",
     "text": [
      "배열의 차원: 2\n",
      "배열의 형태: (3, 3)\n",
      "배열의 크기: 9\n",
      "배열의 데이터 타입: int64\n",
      "배열 요소의 크기: 8\n",
      "배열의 strides: (24, 8)\n"
     ]
    }
   ],
   "source": [
    "# 배열 생성\n",
    "arr = np.array([[1, 2, 3],\n",
    "                [4, 5, 6],\n",
    "                [7, 8, 9]])\n",
    "\n",
    "# 배열의 속성 확인\n",
    "print('배열의 차원:', arr.ndim)         # 2\n",
    "print('배열의 형태:', arr.shape)        # (3, 3)\n",
    "print('배열의 크기:', arr.size)         # 9\n",
    "print('배열의 데이터 타입:', arr.dtype) # int64\n",
    "print('배열 요소의 크기:', arr.itemsize) # 8 (바이트)\n",
    "print('배열의 strides:', arr.strides)   # (24, 8)"
   ]
  },
  {
   "cell_type": "code",
   "execution_count": 54,
   "id": "57778a40",
   "metadata": {},
   "outputs": [
    {
     "data": {
      "text/plain": [
       "list"
      ]
     },
     "execution_count": 54,
     "metadata": {},
     "output_type": "execute_result"
    }
   ],
   "source": [
    "tensor_list = [[[1,2,3,4],[1,2,3,4],[1,2,3,4]],  # 4,3,4\n",
    "               [[1,2,3,4],[1,2,3,4],[1,2,3,4]],  # \n",
    "               [[1,2,3,4],[1,2,3,4],[1,2,3,4]],\n",
    "               [[1,2,3,4],[1,2,3,4],[1,2,3,4]]]\n",
    "\n",
    "type(tensor_list)\n"
   ]
  },
  {
   "cell_type": "code",
   "execution_count": null,
   "id": "9a8c5383",
   "metadata": {},
   "outputs": [
    {
     "data": {
      "text/plain": [
       "(4, 3, 4)"
      ]
     },
     "execution_count": 53,
     "metadata": {},
     "output_type": "execute_result"
    }
   ],
   "source": [
    "np.array(tensor_list).shape # 3행 4열 4개"
   ]
  },
  {
   "cell_type": "code",
   "execution_count": 3,
   "id": "1405aee7",
   "metadata": {},
   "outputs": [
    {
     "data": {
      "text/plain": [
       "numpy.ndarray"
      ]
     },
     "execution_count": 3,
     "metadata": {},
     "output_type": "execute_result"
    }
   ],
   "source": [
    "# 2차원\n",
    "\n",
    "import numpy as np\n",
    "arr2 = np.array([[1, 2, 3],\n",
    "                [4, 5, 6],\n",
    "                [7, 8, 9]])\n",
    "\n",
    "type(arr2)\n"
   ]
  },
  {
   "cell_type": "code",
   "execution_count": 4,
   "id": "ba464834",
   "metadata": {},
   "outputs": [
    {
     "data": {
      "text/plain": [
       "numpy.ndarray"
      ]
     },
     "execution_count": 4,
     "metadata": {},
     "output_type": "execute_result"
    }
   ],
   "source": [
    "arr3 = np.array([1,2,3]) # 1차원\n",
    "\n",
    "type(arr3)"
   ]
  },
  {
   "cell_type": "code",
   "execution_count": null,
   "id": "fd3bbfb2",
   "metadata": {},
   "outputs": [
    {
     "data": {
      "text/plain": [
       "(dtype('int64'), dtype('int64'))"
      ]
     },
     "execution_count": 5,
     "metadata": {},
     "output_type": "execute_result"
    }
   ],
   "source": [
    "arr2.dtype,arr3.dtype "
   ]
  },
  {
   "cell_type": "code",
   "execution_count": 7,
   "id": "ea168851",
   "metadata": {},
   "outputs": [
    {
     "data": {
      "text/plain": [
       "(2006124597712, 2006631513904)"
      ]
     },
     "execution_count": 7,
     "metadata": {},
     "output_type": "execute_result"
    }
   ],
   "source": [
    "arr4 = np.array([1,2,3])\n",
    "\n",
    "id(arr3),id(arr4) # 똑같은거 여러개 만들 필요가 없다."
   ]
  },
  {
   "cell_type": "code",
   "execution_count": 9,
   "id": "f8ee65ea",
   "metadata": {},
   "outputs": [
    {
     "data": {
      "text/plain": [
       "(4, 3, 4)"
      ]
     },
     "execution_count": 9,
     "metadata": {},
     "output_type": "execute_result"
    }
   ],
   "source": [
    "# 3차원: 텐서를 위한 리스트\n",
    "tensor_list = [[[1,2,3,4],[1,2,3,4],[1,2,3,4]],  # 4,3,4\n",
    "               [[1,2,3,4],[1,2,3,4],[1,2,3,4]],  \n",
    "               [[1,2,3,4],[1,2,3,4],[1,2,3,4]],\n",
    "               [[1,2,3,4],[1,2,3,4],[1,2,3,4]]]\n",
    "\n",
    "arr1 = np.array(tensor_list)\n",
    "arr1.shape"
   ]
  },
  {
   "cell_type": "code",
   "execution_count": 11,
   "id": "3dd12b78",
   "metadata": {},
   "outputs": [
    {
     "data": {
      "text/plain": [
       "list"
      ]
     },
     "execution_count": 11,
     "metadata": {},
     "output_type": "execute_result"
    }
   ],
   "source": [
    "list2 = [1,2,3,4,'5']\n",
    "type(list2)"
   ]
  },
  {
   "cell_type": "code",
   "execution_count": 13,
   "id": "e953f5ab",
   "metadata": {},
   "outputs": [
    {
     "data": {
      "text/plain": [
       "dtype('<U21')"
      ]
     },
     "execution_count": 13,
     "metadata": {},
     "output_type": "execute_result"
    }
   ],
   "source": [
    "list2_np = np.array(list2)\n",
    "list2_np.dtype # U:문자열로 변환(유니코드)"
   ]
  },
  {
   "cell_type": "code",
   "execution_count": 14,
   "id": "efaea1d5",
   "metadata": {},
   "outputs": [
    {
     "data": {
      "text/plain": [
       "dtype('float64')"
      ]
     },
     "execution_count": 14,
     "metadata": {},
     "output_type": "execute_result"
    }
   ],
   "source": [
    "np.array(list2_np,dtype=float).dtype"
   ]
  },
  {
   "cell_type": "markdown",
   "id": "cf4cbf42",
   "metadata": {},
   "source": [
    "# shape 속성"
   ]
  },
  {
   "cell_type": "code",
   "execution_count": 16,
   "id": "0f56b76b",
   "metadata": {},
   "outputs": [
    {
     "data": {
      "text/plain": [
       "(8,)"
      ]
     },
     "execution_count": 16,
     "metadata": {},
     "output_type": "execute_result"
    }
   ],
   "source": [
    "list2 = [1,2,3,4,5,6,7,8]\n",
    "t_2 = np.array(list2)\n",
    "t_2.shape # 8개의 요소가 들어있음."
   ]
  },
  {
   "cell_type": "code",
   "execution_count": 18,
   "id": "609e10a2",
   "metadata": {},
   "outputs": [
    {
     "data": {
      "text/plain": [
       "((3, 3), 2)"
      ]
     },
     "execution_count": 18,
     "metadata": {},
     "output_type": "execute_result"
    }
   ],
   "source": [
    "list3 = np.array([[1, 2, 3],\n",
    "                [4, 5, 6],\n",
    "                [7, 8, 9]])\n",
    "\n",
    "list3.shape,list3.ndim"
   ]
  },
  {
   "cell_type": "code",
   "execution_count": 22,
   "id": "a75db9bf",
   "metadata": {},
   "outputs": [
    {
     "data": {
      "text/plain": [
       "array([[ 1,  2,  3],\n",
       "       [ 4,  5,  6],\n",
       "       [ 7,  8,  9],\n",
       "       [10, 11, 12]])"
      ]
     },
     "execution_count": 22,
     "metadata": {},
     "output_type": "execute_result"
    }
   ],
   "source": [
    "list4 = range(1,13)\n",
    "np.array(list4).reshape((4,3))"
   ]
  },
  {
   "cell_type": "code",
   "execution_count": 31,
   "id": "3b11ced4",
   "metadata": {},
   "outputs": [
    {
     "data": {
      "text/plain": [
       "array([[1],\n",
       "       [2],\n",
       "       [3]])"
      ]
     },
     "execution_count": 31,
     "metadata": {},
     "output_type": "execute_result"
    }
   ],
   "source": [
    "list4 = np.array([1,2,3])\n",
    "list4.reshape(1,3) # 2차원으로 바꿈.\n",
    "list4.reshape(3,1)"
   ]
  },
  {
   "cell_type": "code",
   "execution_count": 25,
   "id": "65c5c94f",
   "metadata": {},
   "outputs": [
    {
     "data": {
      "text/plain": [
       "array([2])"
      ]
     },
     "execution_count": 25,
     "metadata": {},
     "output_type": "execute_result"
    }
   ],
   "source": [
    "list4[np.newaxis,1]"
   ]
  },
  {
   "cell_type": "code",
   "execution_count": 26,
   "id": "8aee5b72",
   "metadata": {},
   "outputs": [
    {
     "data": {
      "text/plain": [
       "array([[1, 2, 3]])"
      ]
     },
     "execution_count": 26,
     "metadata": {},
     "output_type": "execute_result"
    }
   ],
   "source": [
    "list4[np.newaxis,:]"
   ]
  },
  {
   "cell_type": "code",
   "execution_count": 27,
   "id": "da8330bb",
   "metadata": {},
   "outputs": [
    {
     "data": {
      "text/plain": [
       "array([[1],\n",
       "       [2],\n",
       "       [3]])"
      ]
     },
     "execution_count": 27,
     "metadata": {},
     "output_type": "execute_result"
    }
   ],
   "source": [
    "list4[:,np.newaxis]"
   ]
  },
  {
   "cell_type": "code",
   "execution_count": 33,
   "id": "73f7c538",
   "metadata": {},
   "outputs": [
    {
     "data": {
      "text/plain": [
       "(2, 3)"
      ]
     },
     "execution_count": 33,
     "metadata": {},
     "output_type": "execute_result"
    }
   ],
   "source": [
    "np.arange(1,7).reshape((2,3)).shape"
   ]
  },
  {
   "cell_type": "code",
   "execution_count": 36,
   "id": "7edba947",
   "metadata": {},
   "outputs": [],
   "source": [
    "list5 = np.arange(1,25).reshape((2,3,4))"
   ]
  },
  {
   "cell_type": "code",
   "execution_count": 42,
   "id": "d8142359",
   "metadata": {},
   "outputs": [
    {
     "data": {
      "text/plain": [
       "array([ 1,  2,  3,  4,  5,  6,  7,  8,  9, 10, 11, 12, 13, 14, 15, 16, 17,\n",
       "       18, 19, 20, 21, 22, 23, 24])"
      ]
     },
     "execution_count": 42,
     "metadata": {},
     "output_type": "execute_result"
    }
   ],
   "source": [
    "list5.reshape((24,))"
   ]
  },
  {
   "cell_type": "code",
   "execution_count": 43,
   "id": "be8b15df",
   "metadata": {},
   "outputs": [
    {
     "data": {
      "text/plain": [
       "array([ 1,  2,  3,  4,  5,  6,  7,  8,  9, 10, 11, 12, 13, 14, 15, 16, 17,\n",
       "       18, 19, 20, 21, 22, 23, 24])"
      ]
     },
     "execution_count": 43,
     "metadata": {},
     "output_type": "execute_result"
    }
   ],
   "source": [
    "list5.reshape((-1))"
   ]
  },
  {
   "cell_type": "code",
   "execution_count": 45,
   "id": "8243b757",
   "metadata": {},
   "outputs": [
    {
     "name": "stdout",
     "output_type": "stream",
     "text": [
      "[[1. 0. 0.]\n",
      " [0. 1. 0.]\n",
      " [0. 0. 1.]]\n"
     ]
    }
   ],
   "source": [
    "identity_matrix = np.identity(3)\n",
    "print(identity_matrix)"
   ]
  },
  {
   "cell_type": "code",
   "execution_count": 46,
   "id": "87488cbd",
   "metadata": {},
   "outputs": [
    {
     "name": "stdout",
     "output_type": "stream",
     "text": [
      "[[1 0 0]\n",
      " [0 2 0]\n",
      " [0 0 3]]\n"
     ]
    }
   ],
   "source": [
    "diagonal_matrix = np.diag([1,2,3])\n",
    "print(diagonal_matrix)"
   ]
  },
  {
   "cell_type": "code",
   "execution_count": null,
   "id": "8c41d7ed",
   "metadata": {},
   "outputs": [
    {
     "name": "stdout",
     "output_type": "stream",
     "text": [
      "[0 4 8]\n"
     ]
    }
   ],
   "source": [
    "a = np.arange(9).reshape(3,3)\n",
    "diagonal_matrix_value = np.diag(a)\n",
    "print(diagonal_matrix_value) # 대각선 원소만 뽑아서 array를 만듬."
   ]
  },
  {
   "cell_type": "code",
   "execution_count": 48,
   "id": "81f95ec7",
   "metadata": {},
   "outputs": [
    {
     "data": {
      "text/plain": [
       "array([[0, 1, 2],\n",
       "       [3, 4, 5],\n",
       "       [6, 7, 8]])"
      ]
     },
     "execution_count": 48,
     "metadata": {},
     "output_type": "execute_result"
    }
   ],
   "source": [
    "a"
   ]
  },
  {
   "cell_type": "code",
   "execution_count": null,
   "id": "9422c623",
   "metadata": {},
   "outputs": [
    {
     "name": "stdout",
     "output_type": "stream",
     "text": [
      "[[1. 0. 0.]\n",
      " [0. 1. 0.]\n",
      " [0. 0. 1.]\n",
      " [0. 0. 0.]]\n"
     ]
    }
   ],
   "source": [
    "rect_eye = np.eye(4,3) # 단위행렬의 대각선 위치를 조절할 수 있다는 점에서 유연하다.\n",
    "print(rect_eye)"
   ]
  },
  {
   "cell_type": "code",
   "execution_count": null,
   "id": "92c7b0e1",
   "metadata": {},
   "outputs": [
    {
     "name": "stdout",
     "output_type": "stream",
     "text": [
      "[[0. 0. 0.]\n",
      " [1. 0. 0.]\n",
      " [0. 1. 0.]]\n"
     ]
    }
   ],
   "source": [
    "shifted_eye = np.eye(3, k=-1)\n",
    "print(shifted_eye) # k가 음수면 아래로 이동, 양수이면 위로 이동"
   ]
  },
  {
   "cell_type": "code",
   "execution_count": null,
   "id": "a45b5f3a",
   "metadata": {},
   "outputs": [
    {
     "name": "stdout",
     "output_type": "stream",
     "text": [
      "원본 배열의 shape: (2, 3)\n",
      "zeros_like 결과:\n",
      " [[0 0 0]\n",
      " [0 0 0]]\n",
      "ones_like 결과:\n",
      " [[1 1 1]\n",
      " [1 1 1]]\n",
      "full_like 결과:\n",
      " [[7 7 7]\n",
      " [7 7 7]]\n",
      "[[1 2 3]\n",
      " [4 5 6]]\n"
     ]
    }
   ],
   "source": [
    "# 기존 배열\n",
    "arr = np.array([[1, 2, 3], [4, 5, 6]])\n",
    "\n",
    "# empty_like(): 초기화되지 않은 배열 생성\n",
    "empty_arr = np.empty_like(arr)\n",
    "\n",
    "# zeros_like(): 0으로 채워진 배열 생성\n",
    "zeros_arr = np.zeros_like(arr)\n",
    "\n",
    "# ones_like(): 1로 채워진 배열 생성\n",
    "ones_arr = np.ones_like(arr)\n",
    "\n",
    "# full_like(): 지정된 값으로 채워진 배열 생성\n",
    "full_arr = np.full_like(arr, 7)  # 7로 채워진 배열\n",
    "\n",
    "print(\"원본 배열의 shape:\", arr.shape)\n",
    "print(\"zeros_like 결과:\\n\", zeros_arr)\n",
    "print(\"ones_like 결과:\\n\", ones_arr)\n",
    "print(\"full_like 결과:\\n\", full_arr)"
   ]
  },
  {
   "cell_type": "code",
   "execution_count": null,
   "id": "e2ce6a5e",
   "metadata": {},
   "outputs": [
    {
     "name": "stdout",
     "output_type": "stream",
     "text": [
      "변환 전: [1.1 2.2 3.3] float64\n",
      "변환 후: [1 2 3] int32\n"
     ]
    }
   ],
   "source": [
    "float_arr = np.array([1.1, 2.2, 3.3])\n",
    "int_arr = float_arr.astype(np.int32)  # 실수를 정수로 변환\n",
    "print(\"변환 전:\", float_arr, float_arr.dtype)\n",
    "print(\"변환 후:\", int_arr, int_arr.dtype)"
   ]
  },
  {
   "cell_type": "code",
   "execution_count": null,
   "id": "a09ba8fd",
   "metadata": {},
   "outputs": [
    {
     "data": {
      "text/plain": [
       "[1, 2, 3, 4, 5, 1, 2, 3, 4, 5]"
      ]
     },
     "execution_count": 57,
     "metadata": {},
     "output_type": "execute_result"
    }
   ],
   "source": [
    "# 파이썬 자료형과의 비교\n",
    "\n",
    "lst_data = [1,2,3,4,5] # __add__, append(),extend()\n",
    "lst_data + lst_data"
   ]
  },
  {
   "cell_type": "code",
   "execution_count": null,
   "id": "c7f40eb6",
   "metadata": {},
   "outputs": [
    {
     "data": {
      "text/plain": [
       "array([ 1,  4,  9, 16, 25])"
      ]
     },
     "execution_count": 71,
     "metadata": {},
     "output_type": "execute_result"
    }
   ],
   "source": [
    "# 요소별 연산\n",
    "a1 = np.array(lst_data)\n",
    "a2 = np.array([1,2,3,4,5])\n",
    "a1 * a2 # a1과 a2의 원소의 개수가 다르면 요소별 계산를 할 수 없다.\n"
   ]
  },
  {
   "cell_type": "code",
   "execution_count": 72,
   "id": "c00081f2",
   "metadata": {},
   "outputs": [
    {
     "data": {
      "text/plain": [
       "array([ 2,  5, 10, 17, 26])"
      ]
     },
     "execution_count": 72,
     "metadata": {},
     "output_type": "execute_result"
    }
   ],
   "source": [
    "a1 * a2 + 1"
   ]
  },
  {
   "cell_type": "code",
   "execution_count": null,
   "id": "a9e3d334",
   "metadata": {},
   "outputs": [
    {
     "data": {
      "text/plain": [
       "array([ 2,  4,  6,  8, 10])"
      ]
     },
     "execution_count": 73,
     "metadata": {},
     "output_type": "execute_result"
    }
   ],
   "source": [
    "# 브로드캐스팅: 크기가 다른 배열에서 작은 쪽이 큰 쪽을 기준으로 크기를 확장하는 것\n",
    "\n",
    "a1 * 2 # 2,2,2,2,2"
   ]
  },
  {
   "cell_type": "code",
   "execution_count": 126,
   "id": "deb284d0",
   "metadata": {},
   "outputs": [
    {
     "data": {
      "text/plain": [
       "array([0, 1, 2])"
      ]
     },
     "execution_count": 126,
     "metadata": {},
     "output_type": "execute_result"
    }
   ],
   "source": [
    "a_array = np.arange(3) # 1차원\n",
    "b_array = np.arange(3)[:,np.newaxis] #2차원\n",
    "a_array"
   ]
  },
  {
   "cell_type": "code",
   "execution_count": null,
   "id": "45489303",
   "metadata": {},
   "outputs": [
    {
     "data": {
      "text/plain": [
       "array([[0, 0, 0],\n",
       "       [0, 1, 2],\n",
       "       [0, 2, 4]])"
      ]
     },
     "execution_count": 81,
     "metadata": {},
     "output_type": "execute_result"
    }
   ],
   "source": [
    "a_array * b_array # 행과 열을 바꿔야하는데 요소의 수가 맞지않아 배열을 바꾸지 못하면 연산이 되지 않음"
   ]
  },
  {
   "cell_type": "code",
   "execution_count": 82,
   "id": "4e70e533",
   "metadata": {},
   "outputs": [
    {
     "name": "stdout",
     "output_type": "stream",
     "text": [
      "덧셈:\n",
      " [[ 6  8]\n",
      " [10 12]]\n",
      "뺄셈:\n",
      " [[-4 -4]\n",
      " [-4 -4]]\n",
      "곱셈:\n",
      " [[ 5 12]\n",
      " [21 32]]\n",
      "나눗셈:\n",
      " [[0.2        0.33333333]\n",
      " [0.42857143 0.5       ]]\n"
     ]
    }
   ],
   "source": [
    "a = np.array([[1, 2], [3, 4]])\n",
    "b = np.array([[5, 6], [7, 8]])\n",
    "\n",
    "print(\"덧셈:\\n\", a + b)\n",
    "print(\"뺄셈:\\n\", a - b)\n",
    "print(\"곱셈:\\n\", a * b)\n",
    "print(\"나눗셈:\\n\", a / b)\n",
    "\n",
    "# shape이 다른 경우 오류 발생\n",
    "c = np.array([[1, 2, 3], [4, 5, 6]])  # shape: (2, 3)\n",
    "d = np.array([[1, 2], [3, 4]])   "
   ]
  },
  {
   "cell_type": "code",
   "execution_count": 86,
   "id": "bc183829",
   "metadata": {},
   "outputs": [
    {
     "name": "stdout",
     "output_type": "stream",
     "text": [
      "같음: [ True False  True False  True]\n",
      "더 큼: [False False False  True False]\n",
      "더 작음: [False  True False False False]\n",
      "복합 조건: [False False  True  True False]\n",
      "3보다 큰 값: [4 5]\n"
     ]
    }
   ],
   "source": [
    "# 비교 연산 예제\n",
    "arr1 = np.array([1, 2, 3, 4, 5])\n",
    "arr2 = np.array([1, 3, 3, 0, 5])\n",
    "\n",
    "# 같음 비교\n",
    "print(\"같음:\", arr1 == arr2)  # [ True False  True False  True]\n",
    "\n",
    "# 크기 비교\n",
    "print(\"더 큼:\", arr1 > arr2)  # [False False False  True False]\n",
    "print(\"더 작음:\", arr1 < arr2)  # [False  True False False False]\n",
    "\n",
    "# 논리 연산 결합\n",
    "mask = (arr1 >= 3) & (arr2 <= 4)\n",
    "print(\"복합 조건:\", mask)  # [False False  True False False]\n",
    "\n",
    "# 비교 결과를 이용한 필터링\n",
    "filtered = arr1[arr1 > 3]\n",
    "print(\"3보다 큰 값:\", filtered)  # [4 5]\n"
   ]
  },
  {
   "cell_type": "code",
   "execution_count": 150,
   "id": "143653f6",
   "metadata": {},
   "outputs": [
    {
     "data": {
      "text/plain": [
       "array([[ 0,  1,  2,  3,  4,  5],\n",
       "       [ 6,  7,  8,  9, 10, 11],\n",
       "       [12, 13, 14, 15, 16, 17],\n",
       "       [18, 19, 20, 21, 22, 23],\n",
       "       [24, 25, 26, 27, 28, 29],\n",
       "       [30, 31, 32, 33, 34, 35],\n",
       "       [ 0,  1,  2,  3,  4,  5],\n",
       "       [ 6,  7,  8,  9, 10, 11],\n",
       "       [12, 13, 14, 15, 16, 17],\n",
       "       [18, 19, 20, 21, 22, 23],\n",
       "       [24, 25, 26, 27, 28, 29],\n",
       "       [30, 31, 32, 33, 34, 35]])"
      ]
     },
     "execution_count": 150,
     "metadata": {},
     "output_type": "execute_result"
    }
   ],
   "source": [
    "## 배열의 결합, 연결\n",
    "\n",
    "np.concatenate([array,array])"
   ]
  },
  {
   "cell_type": "code",
   "execution_count": 92,
   "id": "884df582",
   "metadata": {},
   "outputs": [
    {
     "data": {
      "text/plain": [
       "array([1, 2, 3, 4, 5, 6, 7])"
      ]
     },
     "execution_count": 92,
     "metadata": {},
     "output_type": "execute_result"
    }
   ],
   "source": [
    "v1 = np.array([1,2,3])\n",
    "v2 = np.array([4,5,6,7])\n",
    "np.concatenate([v1,v2],axis=0)"
   ]
  },
  {
   "cell_type": "code",
   "execution_count": 96,
   "id": "c32f3f50",
   "metadata": {},
   "outputs": [
    {
     "data": {
      "text/plain": [
       "array([[1, 2, 3, 1, 2, 3],\n",
       "       [1, 2, 3, 1, 2, 3]])"
      ]
     },
     "execution_count": 96,
     "metadata": {},
     "output_type": "execute_result"
    }
   ],
   "source": [
    "grid = np.array([[1,2,3],[1,2,3]])\n",
    "\n",
    "np.concatenate([grid,grid],axis = 1)"
   ]
  },
  {
   "cell_type": "code",
   "execution_count": 100,
   "id": "b01daf72",
   "metadata": {},
   "outputs": [
    {
     "data": {
      "text/plain": [
       "array([[1, 2, 3],\n",
       "       [1, 2, 3]])"
      ]
     },
     "execution_count": 100,
     "metadata": {},
     "output_type": "execute_result"
    }
   ],
   "source": [
    "np.vstack((v1,v1))"
   ]
  },
  {
   "cell_type": "code",
   "execution_count": 101,
   "id": "9bbd540e",
   "metadata": {},
   "outputs": [
    {
     "data": {
      "text/plain": [
       "array([1, 2, 3, 4, 5, 6, 7])"
      ]
     },
     "execution_count": 101,
     "metadata": {},
     "output_type": "execute_result"
    }
   ],
   "source": [
    "np.hstack((v1,v2))"
   ]
  },
  {
   "cell_type": "markdown",
   "id": "86c39888",
   "metadata": {},
   "source": [
    "# 인덱싱"
   ]
  },
  {
   "cell_type": "markdown",
   "id": "0c7fccb1",
   "metadata": {},
   "source": [
    "## 축인덱싱\n",
    "\n",
    "axis = 0\n",
    "\n",
    "axis= 1\n",
    "\n",
    "axis =2"
   ]
  },
  {
   "cell_type": "code",
   "execution_count": 104,
   "id": "18824c7c",
   "metadata": {},
   "outputs": [
    {
     "data": {
      "text/plain": [
       "np.int64(21)"
      ]
     },
     "execution_count": 104,
     "metadata": {},
     "output_type": "execute_result"
    }
   ],
   "source": [
    "arr = np.array([[1,2,3],[4,5,6]])\n",
    "np.sum(arr)"
   ]
  },
  {
   "cell_type": "code",
   "execution_count": 105,
   "id": "5b03df46",
   "metadata": {},
   "outputs": [
    {
     "data": {
      "text/plain": [
       "array([5, 7, 9])"
      ]
     },
     "execution_count": 105,
     "metadata": {},
     "output_type": "execute_result"
    }
   ],
   "source": [
    "np.sum(arr,axis=0)"
   ]
  },
  {
   "cell_type": "code",
   "execution_count": 106,
   "id": "7c168a14",
   "metadata": {},
   "outputs": [
    {
     "data": {
      "text/plain": [
       "array([ 6, 15])"
      ]
     },
     "execution_count": 106,
     "metadata": {},
     "output_type": "execute_result"
    }
   ],
   "source": [
    "np.sum(arr,axis=1)"
   ]
  },
  {
   "cell_type": "code",
   "execution_count": 107,
   "id": "ad7d8ece",
   "metadata": {},
   "outputs": [
    {
     "name": "stdout",
     "output_type": "stream",
     "text": [
      "1\n",
      "5\n"
     ]
    }
   ],
   "source": [
    "arr = np.array([1, 2, 3, 4, 5])\n",
    "print(arr[0])    # 첫 번째 요소: 1\n",
    "print(arr[-1])   # 마지막 요소: 5"
   ]
  },
  {
   "cell_type": "code",
   "execution_count": 109,
   "id": "ca05bc2b",
   "metadata": {},
   "outputs": [
    {
     "name": "stdout",
     "output_type": "stream",
     "text": [
      "2\n",
      "5\n"
     ]
    }
   ],
   "source": [
    "\n",
    "# 2차원 배열 인덱싱\n",
    "arr_2d = np.array([[1, 2, 3],\n",
    "                   [4, 5, 6]])\n",
    "print(arr_2d[0, 1])    # 첫 번째 행, 두 번째 열: 2\n",
    "print(arr_2d[1, 1])   # 두 번째 행, 마지막 열: 6"
   ]
  },
  {
   "cell_type": "markdown",
   "id": "75acc8dc",
   "metadata": {},
   "source": [
    "## 슬라이싱\n",
    "\n",
    "[:] 전체\n",
    "[0:n] 0~n-1까지\n",
    "\n",
    "리스트와의 차이점\n",
    "- 리스트: 복사본을 리턴\n",
    "- 배열: 원본 배열의 뷰 -> 복사가 아님, 원본에도 영향을 준다\n",
    "- 슬라이싱.copy()"
   ]
  },
  {
   "cell_type": "code",
   "execution_count": 112,
   "id": "c1e10926",
   "metadata": {},
   "outputs": [
    {
     "data": {
      "text/plain": [
       "array([5, 6])"
      ]
     },
     "execution_count": 112,
     "metadata": {},
     "output_type": "execute_result"
    }
   ],
   "source": [
    "x = np.array([1,2,3,4,5,6])\n",
    "new_z = x[4:7]\n",
    "new_z"
   ]
  },
  {
   "cell_type": "code",
   "execution_count": 1,
   "id": "d96d3e47",
   "metadata": {},
   "outputs": [
    {
     "name": "stdout",
     "output_type": "stream",
     "text": [
      "원본 4x4 배열:\n",
      "[[ 0  1  2  3]\n",
      " [ 4  5  6  7]\n",
      " [ 8  9 10 11]\n",
      " [12 13 14 15]]\n",
      "------------------------------\n"
     ]
    }
   ],
   "source": [
    "import numpy as np\n",
    "\n",
    "# 기준이 될 4x4 배열 생성 (이미지와 동일하게 0부터 15까지의 숫자로 채움)\n",
    "arr_2d = np.arange(16).reshape((4, 4))\n",
    "\n",
    "print(\"원본 4x4 배열:\")\n",
    "print(arr_2d)\n",
    "print(\"-\" * 30)"
   ]
  },
  {
   "cell_type": "code",
   "execution_count": 114,
   "id": "f70415c8",
   "metadata": {},
   "outputs": [
    {
     "data": {
      "text/plain": [
       "array([[0, 1, 2, 3]])"
      ]
     },
     "execution_count": 114,
     "metadata": {},
     "output_type": "execute_result"
    }
   ],
   "source": [
    "arr_2d[0:1]"
   ]
  },
  {
   "cell_type": "code",
   "execution_count": 117,
   "id": "aaa9db03",
   "metadata": {},
   "outputs": [
    {
     "data": {
      "text/plain": [
       "array([[ 3],\n",
       "       [ 7],\n",
       "       [11],\n",
       "       [15]])"
      ]
     },
     "execution_count": 117,
     "metadata": {},
     "output_type": "execute_result"
    }
   ],
   "source": [
    "arr_2d[0:4,3:4]"
   ]
  },
  {
   "cell_type": "code",
   "execution_count": 121,
   "id": "835424a5",
   "metadata": {},
   "outputs": [
    {
     "data": {
      "text/plain": [
       "array([[ 0,  3],\n",
       "       [12, 15]])"
      ]
     },
     "execution_count": 121,
     "metadata": {},
     "output_type": "execute_result"
    }
   ],
   "source": [
    "arr_2d[0:4:3,0:4:3]"
   ]
  },
  {
   "cell_type": "code",
   "execution_count": 3,
   "id": "c2a4c0a3",
   "metadata": {},
   "outputs": [
    {
     "data": {
      "text/plain": [
       "array([[ 1,  3],\n",
       "       [ 9, 11]])"
      ]
     },
     "execution_count": 3,
     "metadata": {},
     "output_type": "execute_result"
    }
   ],
   "source": [
    "arr_2d[0:4:2,1:4:2] # 행: 0~3에서 2칸씩, 열: 1~3까지 2칸씩"
   ]
  },
  {
   "cell_type": "code",
   "execution_count": 157,
   "id": "76ff4769",
   "metadata": {},
   "outputs": [
    {
     "data": {
      "text/plain": [
       "array([[ 0,  1,  2,  3,  4,  5],\n",
       "       [ 6,  7,  8,  9, 10, 11],\n",
       "       [12, 13, 14, 15, 16, 17],\n",
       "       [18, 19, 20, 21, 22, 23],\n",
       "       [24, 25, 26, 27, 28, 29],\n",
       "       [30, 31, 32, 33, 34, 35]])"
      ]
     },
     "execution_count": 157,
     "metadata": {},
     "output_type": "execute_result"
    }
   ],
   "source": [
    "# 짝수 인덱스 선택, 홀수 인덱스 열 선택\n",
    "array_1 = np.arange(36).reshape((6,6))\n",
    "array_1 "
   ]
  },
  {
   "cell_type": "code",
   "execution_count": null,
   "id": "90c44614",
   "metadata": {},
   "outputs": [],
   "source": [
    "# 각 층의 (0,0)위치의 값을 각 층의 인덱스로 생성\n",
    "for d_inx in []"
   ]
  },
  {
   "cell_type": "code",
   "execution_count": 158,
   "id": "c1f9d740",
   "metadata": {},
   "outputs": [
    {
     "data": {
      "text/plain": [
       "array([[[ 0,  1,  2,  3,  4,  5],\n",
       "        [ 6,  7,  8,  9, 10, 11],\n",
       "        [12, 13, 14, 15, 16, 17],\n",
       "        [18, 19, 20, 21, 22, 23],\n",
       "        [24, 25, 26, 27, 28, 29],\n",
       "        [30, 31, 32, 33, 34, 35]],\n",
       "\n",
       "       [[ 0,  1,  2,  3,  4,  5],\n",
       "        [ 6,  7,  8,  9, 10, 11],\n",
       "        [12, 13, 14, 15, 16, 17],\n",
       "        [18, 19, 20, 21, 22, 23],\n",
       "        [24, 25, 26, 27, 28, 29],\n",
       "        [30, 31, 32, 33, 34, 35]],\n",
       "\n",
       "       [[ 0,  1,  2,  3,  4,  5],\n",
       "        [ 6,  7,  8,  9, 10, 11],\n",
       "        [12, 13, 14, 15, 16, 17],\n",
       "        [18, 19, 20, 21, 22, 23],\n",
       "        [24, 25, 26, 27, 28, 29],\n",
       "        [30, 31, 32, 33, 34, 35]],\n",
       "\n",
       "       [[ 0,  1,  2,  3,  4,  5],\n",
       "        [ 6,  7,  8,  9, 10, 11],\n",
       "        [12, 13, 14, 15, 16, 17],\n",
       "        [18, 19, 20, 21, 22, 23],\n",
       "        [24, 25, 26, 27, 28, 29],\n",
       "        [30, 31, 32, 33, 34, 35]]])"
      ]
     },
     "execution_count": 158,
     "metadata": {},
     "output_type": "execute_result"
    }
   ],
   "source": [
    "a = np.stack((array_1,array_1,array_1,array_1)).reshape(4,6,6)\n",
    "a"
   ]
  },
  {
   "cell_type": "code",
   "execution_count": null,
   "id": "36877a8c",
   "metadata": {},
   "outputs": [
    {
     "data": {
      "text/plain": [
       "array([[ 0,  1,  2,  3,  4,  5],\n",
       "       [ 6,  7,  8,  9, 10, 11],\n",
       "       [12, 13, 14, 15, 16, 17],\n",
       "       [18, 19, 20, 21, 22, 23],\n",
       "       [24, 25, 26, 27, 28, 29],\n",
       "       [30, 31, 32, 33, 34, 35]])"
      ]
     },
     "execution_count": 160,
     "metadata": {},
     "output_type": "execute_result"
    }
   ],
   "source": [
    "a[1]"
   ]
  },
  {
   "cell_type": "code",
   "execution_count": 176,
   "id": "96a4815b",
   "metadata": {},
   "outputs": [
    {
     "data": {
      "text/plain": [
       "array([19])"
      ]
     },
     "execution_count": 176,
     "metadata": {},
     "output_type": "execute_result"
    }
   ],
   "source": [
    "a[1,3,1].reshape(1)"
   ]
  },
  {
   "cell_type": "code",
   "execution_count": 174,
   "id": "fb8f1fb4",
   "metadata": {},
   "outputs": [
    {
     "data": {
      "text/plain": [
       "array([[[28, 29],\n",
       "        [34, 35]],\n",
       "\n",
       "       [[28, 29],\n",
       "        [34, 35]]])"
      ]
     },
     "execution_count": 174,
     "metadata": {},
     "output_type": "execute_result"
    }
   ],
   "source": [
    "a[0:2,4:,4:]"
   ]
  },
  {
   "cell_type": "code",
   "execution_count": 179,
   "id": "3cb6a4de",
   "metadata": {},
   "outputs": [
    {
     "data": {
      "text/plain": [
       "array([[[ 2],\n",
       "        [ 8],\n",
       "        [14],\n",
       "        [20],\n",
       "        [26],\n",
       "        [32]],\n",
       "\n",
       "       [[ 2],\n",
       "        [ 8],\n",
       "        [14],\n",
       "        [20],\n",
       "        [26],\n",
       "        [32]]])"
      ]
     },
     "execution_count": 179,
     "metadata": {},
     "output_type": "execute_result"
    }
   ],
   "source": [
    "a[0:4:2,:,2:3]"
   ]
  },
  {
   "cell_type": "code",
   "execution_count": 180,
   "id": "fa900017",
   "metadata": {},
   "outputs": [
    {
     "data": {
      "text/plain": [
       "array([[[ 7,  9, 11],\n",
       "        [13, 15, 17],\n",
       "        [19, 21, 23]]])"
      ]
     },
     "execution_count": 180,
     "metadata": {},
     "output_type": "execute_result"
    }
   ],
   "source": [
    "a[2:3,1:4,1::2]"
   ]
  },
  {
   "cell_type": "markdown",
   "id": "1fb171a8",
   "metadata": {},
   "source": [
    "# 고급 인덱싱 기법: 불리언 인덱싱\n",
    "\n",
    "비교연산자, 논리연산자를 이용한 마스크 행렬을 생성\n",
    "마스크 행렬을 이용한 인덱싱"
   ]
  },
  {
   "cell_type": "code",
   "execution_count": 6,
   "id": "60578783",
   "metadata": {},
   "outputs": [
    {
     "name": "stdout",
     "output_type": "stream",
     "text": [
      "불린 인덱싱: [1 3 5]\n"
     ]
    }
   ],
   "source": [
    "# 불린 인덱싱 예제\n",
    "arr = np.array([1, 2, 3, 4, 5])\n",
    "bool_array = np.array([True, False, True, False, True])\n",
    "print(\"불린 인덱싱:\", arr[bool_array])  # [1 3 5]"
   ]
  },
  {
   "cell_type": "code",
   "execution_count": 7,
   "id": "75adae36",
   "metadata": {},
   "outputs": [
    {
     "name": "stdout",
     "output_type": "stream",
     "text": [
      "마스킹 결과: [1 2 3 0 0]\n"
     ]
    }
   ],
   "source": [
    "# 마스킹 예제\n",
    "mask = arr > 3  # 조건식으로 마스크 생성\n",
    "arr[mask] = 0   # 마스크를 사용한 값 수정\n",
    "print(\"마스킹 결과:\", arr)  # [1 2 3 0 0]"
   ]
  },
  {
   "cell_type": "code",
   "execution_count": null,
   "id": "678f40fa",
   "metadata": {},
   "outputs": [
    {
     "name": "stdout",
     "output_type": "stream",
     "text": [
      "[4 5]\n",
      "[1 3 5]\n"
     ]
    }
   ],
   "source": [
    "# 불리언 인덱싱\n",
    "arr = np.array([1, 2, 3, 4, 5])\n",
    "mask = arr > 3\n",
    "print(arr[mask])    # [4 5]\n",
    "\n",
    "# 팬시 인덱싱\n",
    "indices = np.array([0, 2, 4]) # 위치 요소들을 한꺼번에 선택\n",
    "print(arr[indices])    # [1 3 5]"
   ]
  },
  {
   "cell_type": "markdown",
   "id": "ad74e4f4",
   "metadata": {},
   "source": [
    "## 조건식의 규칙\n",
    "- 조건식으로 사용할 행렬의 값이 문자여도 결과만 T/F 식으로 나오면 필터가 된다.\n",
    "- 필터로 사용할 행렬의 갯수 == 원본 데이터의 갯수 : 짝이 맞아야한다.\n",
    "- 행렬[조건식,] \n",
    "- 행렬[:,조건식]\n",
    "- 괄호() 로 우선순위를 지정할 수 있다. 복합 조건이 가능하다 ()&()/()|()\n",
    "- 부정연산자: != , ~ \n",
    "- 페시 인덱싱: 행 또는 열의 순서를 바꿀 수 있다.\n",
    "- 정수 리스트를 인덱스로 활용"
   ]
  },
  {
   "cell_type": "code",
   "execution_count": 9,
   "id": "7a292de4",
   "metadata": {},
   "outputs": [],
   "source": [
    "arr=np.empty((8,4))"
   ]
  },
  {
   "cell_type": "code",
   "execution_count": 10,
   "id": "f5067230",
   "metadata": {},
   "outputs": [],
   "source": [
    "import numpy as np\n",
    "sales_data = np.array([2200, 2350, 2500, 2750, 3000, 3100, 2700, 2600, 2900, 3200,\n",
    "                       3400, 3600, 3300, 3100, 2900, 2700, 2800, 2900, 3100, 3200,\n",
    "                       3300, 3400, 3500, 3700, 3600, 3500, 3400, 3300, 3000, 3100])"
   ]
  },
  {
   "cell_type": "code",
   "execution_count": 11,
   "id": "c9a38d57",
   "metadata": {},
   "outputs": [
    {
     "data": {
      "text/plain": [
       "np.float64(3070.0)"
      ]
     },
     "execution_count": 11,
     "metadata": {},
     "output_type": "execute_result"
    }
   ],
   "source": [
    "np.mean(sales_data)"
   ]
  },
  {
   "cell_type": "code",
   "execution_count": 13,
   "id": "458c526c",
   "metadata": {},
   "outputs": [
    {
     "data": {
      "text/plain": [
       "np.int64(24)"
      ]
     },
     "execution_count": 13,
     "metadata": {},
     "output_type": "execute_result"
    }
   ],
   "source": [
    "np.argmax(sales_data) + 1"
   ]
  },
  {
   "cell_type": "code",
   "execution_count": 16,
   "id": "85a0ec6c",
   "metadata": {},
   "outputs": [
    {
     "data": {
      "text/plain": [
       "np.int64(1)"
      ]
     },
     "execution_count": 16,
     "metadata": {},
     "output_type": "execute_result"
    }
   ],
   "source": [
    "np.argmin(sales_data) + 1"
   ]
  },
  {
   "cell_type": "code",
   "execution_count": 29,
   "id": "9d609129",
   "metadata": {},
   "outputs": [
    {
     "data": {
      "text/plain": [
       "array([[2200, 2350, 2500, 2750, 3000, 3100, 2700],\n",
       "       [2600, 2900, 3200, 3400, 3600, 3300, 3100],\n",
       "       [2900, 2700, 2800, 2900, 3100, 3200, 3300],\n",
       "       [3400, 3500, 3700, 3600, 3500, 3400, 3300]])"
      ]
     },
     "execution_count": 29,
     "metadata": {},
     "output_type": "execute_result"
    }
   ],
   "source": [
    "sales_data[:28].reshape(4,7)"
   ]
  },
  {
   "cell_type": "code",
   "execution_count": 61,
   "id": "21c2ee6c",
   "metadata": {},
   "outputs": [],
   "source": [
    "weekly_data=np.pad(sales_data,(0,5),'constant',constant_values=0).reshape(5,7)"
   ]
  },
  {
   "cell_type": "code",
   "execution_count": 31,
   "id": "b11f1946",
   "metadata": {},
   "outputs": [
    {
     "data": {
      "text/plain": [
       "array([2200, 2350, 2500, 2750, 3000, 3100, 2700, 2600, 2900, 3200, 3400,\n",
       "       3600, 3300, 3100, 2900, 2700, 2800, 2900, 3100, 3200, 3300, 3400,\n",
       "       3500, 3700, 3600, 3500, 3400, 3300, 3000, 3100])"
      ]
     },
     "execution_count": 31,
     "metadata": {},
     "output_type": "execute_result"
    }
   ],
   "source": [
    "sales_data"
   ]
  },
  {
   "cell_type": "code",
   "execution_count": 47,
   "id": "f10790fc",
   "metadata": {},
   "outputs": [
    {
     "name": "stdout",
     "output_type": "stream",
     "text": [
      "Collecting pandas\n",
      "  Downloading pandas-2.3.0-cp312-cp312-win_amd64.whl.metadata (19 kB)\n",
      "Requirement already satisfied: numpy>=1.26.0 in c:\\users\\admin\\miniconda3\\envs\\hipython\\lib\\site-packages (from pandas) (2.3.0)\n",
      "Requirement already satisfied: python-dateutil>=2.8.2 in c:\\users\\admin\\miniconda3\\envs\\hipython\\lib\\site-packages (from pandas) (2.9.0.post0)\n",
      "Collecting pytz>=2020.1 (from pandas)\n",
      "  Downloading pytz-2025.2-py2.py3-none-any.whl.metadata (22 kB)\n",
      "Collecting tzdata>=2022.7 (from pandas)\n",
      "  Downloading tzdata-2025.2-py2.py3-none-any.whl.metadata (1.4 kB)\n",
      "Requirement already satisfied: six>=1.5 in c:\\users\\admin\\miniconda3\\envs\\hipython\\lib\\site-packages (from python-dateutil>=2.8.2->pandas) (1.17.0)\n",
      "Downloading pandas-2.3.0-cp312-cp312-win_amd64.whl (11.0 MB)\n",
      "   ---------------------------------------- 0.0/11.0 MB ? eta -:--:--\n",
      "   --------------- ------------------------ 4.2/11.0 MB 25.2 MB/s eta 0:00:01\n",
      "   ---------------------------------- ----- 9.4/11.0 MB 26.7 MB/s eta 0:00:01\n",
      "   ---------------------------------------- 11.0/11.0 MB 22.8 MB/s eta 0:00:00\n",
      "Downloading pytz-2025.2-py2.py3-none-any.whl (509 kB)\n",
      "Downloading tzdata-2025.2-py2.py3-none-any.whl (347 kB)\n",
      "Installing collected packages: pytz, tzdata, pandas\n",
      "\n",
      "   ---------------------------------------- 0/3 [pytz]\n",
      "   ------------- -------------------------- 1/3 [tzdata]\n",
      "   -------------------------- ------------- 2/3 [pandas]\n",
      "   -------------------------- ------------- 2/3 [pandas]\n",
      "   -------------------------- ------------- 2/3 [pandas]\n",
      "   -------------------------- ------------- 2/3 [pandas]\n",
      "   -------------------------- ------------- 2/3 [pandas]\n",
      "   -------------------------- ------------- 2/3 [pandas]\n",
      "   -------------------------- ------------- 2/3 [pandas]\n",
      "   -------------------------- ------------- 2/3 [pandas]\n",
      "   -------------------------- ------------- 2/3 [pandas]\n",
      "   -------------------------- ------------- 2/3 [pandas]\n",
      "   -------------------------- ------------- 2/3 [pandas]\n",
      "   -------------------------- ------------- 2/3 [pandas]\n",
      "   -------------------------- ------------- 2/3 [pandas]\n",
      "   -------------------------- ------------- 2/3 [pandas]\n",
      "   -------------------------- ------------- 2/3 [pandas]\n",
      "   -------------------------- ------------- 2/3 [pandas]\n",
      "   -------------------------- ------------- 2/3 [pandas]\n",
      "   -------------------------- ------------- 2/3 [pandas]\n",
      "   -------------------------- ------------- 2/3 [pandas]\n",
      "   -------------------------- ------------- 2/3 [pandas]\n",
      "   -------------------------- ------------- 2/3 [pandas]\n",
      "   -------------------------- ------------- 2/3 [pandas]\n",
      "   -------------------------- ------------- 2/3 [pandas]\n",
      "   -------------------------- ------------- 2/3 [pandas]\n",
      "   -------------------------- ------------- 2/3 [pandas]\n",
      "   -------------------------- ------------- 2/3 [pandas]\n",
      "   -------------------------- ------------- 2/3 [pandas]\n",
      "   -------------------------- ------------- 2/3 [pandas]\n",
      "   -------------------------- ------------- 2/3 [pandas]\n",
      "   -------------------------- ------------- 2/3 [pandas]\n",
      "   ---------------------------------------- 3/3 [pandas]\n",
      "\n",
      "Successfully installed pandas-2.3.0 pytz-2025.2 tzdata-2025.2\n",
      "Note: you may need to restart the kernel to use updated packages.\n"
     ]
    }
   ],
   "source": [
    "pip install pandas"
   ]
  },
  {
   "cell_type": "code",
   "execution_count": 51,
   "id": "1b568c69",
   "metadata": {},
   "outputs": [
    {
     "name": "stdout",
     "output_type": "stream",
     "text": [
      "2657.1428571428573 2700.0\n",
      "3157.1428571428573 3200.0\n",
      "2985.714285714286 2900.0\n",
      "3485.714285714286 3500.0\n",
      "3050.0 3050.0\n"
     ]
    }
   ],
   "source": [
    "import pandas as pd\n",
    "day = sales_data[0:7]\n",
    "dday = sales_data[7:14]\n",
    "ddday = sales_data[14:21]\n",
    "dddday = sales_data[21:28]\n",
    "da_day = sales_data[28:]\n",
    "name = [day,dday,ddday,dddday,da_day]\n",
    "\n",
    "\n",
    "for i in name:\n",
    "    print(np.mean(i),np.median(i))"
   ]
  },
  {
   "cell_type": "code",
   "execution_count": 32,
   "id": "23929702",
   "metadata": {},
   "outputs": [
    {
     "data": {
      "text/plain": [
       "array([3000, 3100, 3200, 3400, 3600, 3300, 3100, 3100, 3200, 3300, 3400,\n",
       "       3500, 3700, 3600, 3500, 3400, 3300, 3000, 3100])"
      ]
     },
     "execution_count": 32,
     "metadata": {},
     "output_type": "execute_result"
    }
   ],
   "source": [
    "filter = sales_data >= 3000\n",
    "sales_data[filter]"
   ]
  },
  {
   "cell_type": "code",
   "execution_count": 34,
   "id": "ee418297",
   "metadata": {},
   "outputs": [
    {
     "data": {
      "text/plain": [
       "array([2200, 2350, 2500, 2750, 3000, 3100, 2700, 2600, 2900, 3200, 3400,\n",
       "       3600, 3300, 3100, 2900, 2700, 2800, 2900, 3100, 3200, 3300, 3400,\n",
       "       3500, 3700, 3600, 3500, 3400, 3300, 3000, 3100])"
      ]
     },
     "execution_count": 34,
     "metadata": {},
     "output_type": "execute_result"
    }
   ],
   "source": [
    "sales_data"
   ]
  },
  {
   "cell_type": "code",
   "execution_count": 38,
   "id": "b103af60",
   "metadata": {},
   "outputs": [
    {
     "name": "stdout",
     "output_type": "stream",
     "text": [
      "[3000 3100 2900 3200 3400 3300 3100 2900 2900 3100 3200 3300 3400 3400\n",
      " 3300 3000 3100]\n"
     ]
    }
   ],
   "source": [
    "filter = sales_data[(sales_data > 2800) & (sales_data < 3500)]\n",
    "print(filter)"
   ]
  },
  {
   "cell_type": "code",
   "execution_count": 39,
   "id": "bdc561cd",
   "metadata": {},
   "outputs": [
    {
     "data": {
      "text/plain": [
       "np.float64(3152.9411764705883)"
      ]
     },
     "execution_count": 39,
     "metadata": {},
     "output_type": "execute_result"
    }
   ],
   "source": [
    "np.mean(filter)"
   ]
  },
  {
   "cell_type": "code",
   "execution_count": 41,
   "id": "5b6c5c05",
   "metadata": {},
   "outputs": [
    {
     "data": {
      "text/plain": [
       "np.float64(3152.9411764705883)"
      ]
     },
     "execution_count": 41,
     "metadata": {},
     "output_type": "execute_result"
    }
   ],
   "source": [
    "filter = (sales_data > 2800) & (sales_data < 3500)\n",
    "np.mean(sales_data[filter])"
   ]
  },
  {
   "cell_type": "code",
   "execution_count": 52,
   "id": "5b1dfc4e",
   "metadata": {},
   "outputs": [
    {
     "data": {
      "text/plain": [
       "array([2200, 2350, 2500, 2750, 3000, 3100, 2700, 2600, 2900, 3200, 3400,\n",
       "       3600, 3300, 3100, 2900, 2700, 2800, 2900, 3100, 3200, 3300, 3400,\n",
       "       3500, 3700, 3600, 3500, 3400, 3300, 3000, 3100])"
      ]
     },
     "execution_count": 52,
     "metadata": {},
     "output_type": "execute_result"
    }
   ],
   "source": [
    "# 매출이 증가한 날, 감소한 날 카운트\n",
    "\n",
    "sales_data"
   ]
  },
  {
   "cell_type": "code",
   "execution_count": 56,
   "id": "06d3549f",
   "metadata": {},
   "outputs": [],
   "source": [
    "df = np.diff(sales_data) # 증감"
   ]
  },
  {
   "cell_type": "code",
   "execution_count": 59,
   "id": "186ab998",
   "metadata": {},
   "outputs": [
    {
     "name": "stdout",
     "output_type": "stream",
     "text": [
      "150\n",
      "150\n",
      "250\n",
      "250\n",
      "100\n",
      "300\n",
      "300\n",
      "200\n",
      "200\n",
      "100\n",
      "100\n",
      "200\n",
      "100\n",
      "100\n",
      "100\n",
      "100\n",
      "200\n",
      "100\n"
     ]
    }
   ],
   "source": [
    "for i in df:\n",
    "    if i > 0:\n",
    "        print(i)"
   ]
  },
  {
   "cell_type": "code",
   "execution_count": 60,
   "id": "22414e95",
   "metadata": {},
   "outputs": [],
   "source": [
    "# 주차별 평균게산\n",
    "\n",
    "import matplotlib.pyplot as plt"
   ]
  },
  {
   "cell_type": "code",
   "execution_count": 62,
   "id": "a320d582",
   "metadata": {},
   "outputs": [
    {
     "data": {
      "text/plain": [
       "[<matplotlib.lines.Line2D at 0x1c3b3dd7980>]"
      ]
     },
     "execution_count": 62,
     "metadata": {},
     "output_type": "execute_result"
    },
    {
     "data": {
      "image/png": "[encoded data removed]",
      "text/plain": [
       "<Figure size 640x480 with 1 Axes>"
      ]
     },
     "metadata": {},
     "output_type": "display_data"
    }
   ],
   "source": [
    "w_mean = weekly_data.mean(axis=1)\n",
    "plt.plot(w_mean)"
   ]
  },
  {
   "cell_type": "code",
   "execution_count": 67,
   "id": "195f3ee6",
   "metadata": {},
   "outputs": [
    {
     "data": {
      "text/plain": [
       "array([[2200., 2350., 2500., 2750., 3000., 3100., 2700.],\n",
       "       [2600., 2900., 3200., 3400., 3600., 3300., 3100.],\n",
       "       [2900., 2700., 2800., 2900., 3100., 3200., 3300.],\n",
       "       [3400., 3500., 3700., 3600., 3500., 3400., 3300.],\n",
       "       [3000., 3100.,   nan,   nan,   nan,   nan,   nan]])"
      ]
     },
     "execution_count": 67,
     "metadata": {},
     "output_type": "execute_result"
    }
   ],
   "source": [
    "weekly_data1 = weekly_data.copy().astype(float)\n",
    "weekly_data1[weekly_data1==0]=np.nan\n",
    "weekly_data1"
   ]
  },
  {
   "cell_type": "code",
   "execution_count": 66,
   "id": "71d72c0d",
   "metadata": {},
   "outputs": [
    {
     "data": {
      "text/plain": [
       "[<matplotlib.lines.Line2D at 0x1c3b6079f70>]"
      ]
     },
     "execution_count": 66,
     "metadata": {},
     "output_type": "execute_result"
    },
    {
     "data": {
      "image/png": "[encoded data removed]",
      "text/plain": [
       "<Figure size 640x480 with 1 Axes>"
      ]
     },
     "metadata": {},
     "output_type": "display_data"
    }
   ],
   "source": [
    "m_mean = weekly_data1.mean(axis=1)\n",
    "plt.plot(m_mean)"
   ]
  },
  {
   "cell_type": "code",
   "execution_count": 70,
   "id": "d76800f5",
   "metadata": {},
   "outputs": [
    {
     "data": {
      "text/plain": [
       "array([[2200., 2350., 2500., 2750., 3000., 3100., 2700.],\n",
       "       [2600., 2900., 3200., 3400., 3600., 3300., 3100.],\n",
       "       [2900., 2700., 2800., 2900., 3100., 3200., 3300.],\n",
       "       [3400., 3500., 3700., 3600., 3500., 3400., 3300.],\n",
       "       [3000., 3100.,   nan,   nan,   nan,   nan,   nan]])"
      ]
     },
     "execution_count": 70,
     "metadata": {},
     "output_type": "execute_result"
    }
   ],
   "source": [
    "# 각 주차별로 가장 매출이 높았던 날 찾기\n",
    "\n",
    "weekly_data1"
   ]
  },
  {
   "cell_type": "code",
   "execution_count": 82,
   "id": "b30a55e3",
   "metadata": {},
   "outputs": [
    {
     "name": "stdout",
     "output_type": "stream",
     "text": [
      "0 [2200 2350 2500 2750 3000 3100 2700]\n",
      "1 [2600 2900 3200 3400 3600 3300 3100]\n",
      "2 [2900 2700 2800 2900 3100 3200 3300]\n",
      "3 [3400 3500 3700 3600 3500 3400 3300]\n",
      "4 [3000 3100    0    0    0    0    0]\n"
     ]
    }
   ],
   "source": [
    "for i,u in enumerate(weekly_data):\n",
    "    print(i,u)"
   ]
  },
  {
   "cell_type": "code",
   "execution_count": 83,
   "id": "2bf7048e",
   "metadata": {},
   "outputs": [
    {
     "name": "stdout",
     "output_type": "stream",
     "text": [
      "주차별로 가장 수익이 많이 나는 날은 1주차 6일 입니다.\n",
      "주차별로 가장 수익이 많이 나는 날은 2주차 5일 입니다.\n",
      "주차별로 가장 수익이 많이 나는 날은 3주차 7일 입니다.\n",
      "주차별로 가장 수익이 많이 나는 날은 4주차 3일 입니다.\n",
      "주차별로 가장 수익이 많이 나는 날은 5주차 2일 입니다.\n"
     ]
    }
   ],
   "source": [
    "for i, week_data in enumerate(weekly_data, start=1):\n",
    "    best_day = np.argmax(week_data) + 1  # 요일은 1일~7일 기준\n",
    "    print(f'주차별로 가장 수익이 많이 나는 날은 {i}주차 {best_day}일 입니다.')"
   ]
  },
  {
   "cell_type": "code",
   "execution_count": 92,
   "id": "9b3940e6",
   "metadata": {},
   "outputs": [
    {
     "name": "stdout",
     "output_type": "stream",
     "text": [
      "1\n"
     ]
    }
   ],
   "source": [
    "a = np.array([100, np.nan, 50])\n",
    "valid_idx = ~np.isnan(a)  # NaN이 아닌 값만 선택\n",
    "argmax_valid = np.argmax(a[valid_idx]) + 1 # 0: 인덱스 값을 반환해서 100은 인덱스가 0이기 때문에 0 출력\n",
    "print(argmax_valid)"
   ]
  },
  {
   "cell_type": "code",
   "execution_count": null,
   "id": "35dccf1a",
   "metadata": {},
   "outputs": [
    {
     "name": "stdout",
     "output_type": "stream",
     "text": [
      "0\n"
     ]
    }
   ],
   "source": []
  },
  {
   "cell_type": "code",
   "execution_count": null,
   "id": "35b7efa5",
   "metadata": {},
   "outputs": [],
   "source": []
  }
 ],
 "metadata": {
  "kernelspec": {
   "display_name": "hipython",
   "language": "python",
   "name": "python3"
  },
  "language_info": {
   "codemirror_mode": {
    "name": "ipython",
    "version": 3
   },
   "file_extension": ".py",
   "mimetype": "text/x-python",
   "name": "python",
   "nbconvert_exporter": "python",
   "pygments_lexer": "ipython3",
   "version": "3.12.9"
  }
 },
 "nbformat": 4,
 "nbformat_minor": 5
}
