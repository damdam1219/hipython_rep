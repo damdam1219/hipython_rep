{
 "cells": [
  {
   "cell_type": "markdown",
   "id": "b5f45d4c-dc44-43d0-a6ed-353389bdb6d0",
   "metadata": {},
   "source": [
    " # 들어가기"
   ]
  },
  {
   "cell_type": "code",
   "execution_count": 6,
   "id": "dc848312-eecd-4688-93c0-1cefa31cf42f",
   "metadata": {},
   "outputs": [
    {
     "data": {
      "text/plain": [
       "'12'"
      ]
     },
     "execution_count": 6,
     "metadata": {},
     "output_type": "execute_result"
    }
   ],
   "source": [
    "# 이것은 주석입니다.\n",
    "age"
   ]
  },
  {
   "cell_type": "markdown",
   "id": "a1abc22f-0d57-4cc0-8ec0-b4085f06293d",
   "metadata": {},
   "source": [
    "ESC+M은 마크다운 셀, 한꺼번에 주석: ctrl+/"
   ]
  },
  {
   "cell_type": "code",
   "execution_count": 17,
   "id": "846c9be8-d77b-4f3d-bf27-ed3775013ac4",
   "metadata": {},
   "outputs": [
    {
     "name": "stdout",
     "output_type": "stream",
     "text": [
      "Hello\n"
     ]
    }
   ],
   "source": [
    "def calculate_sum(a,b):\n",
    "    result = a+b\n",
    "    return result\n",
    "print(\"Hello\")"
   ]
  },
  {
   "cell_type": "code",
   "execution_count": 18,
   "id": "45810cae-e229-449c-96b0-20c508cbed18",
   "metadata": {},
   "outputs": [
    {
     "data": {
      "text/plain": [
       "8"
      ]
     },
     "execution_count": 18,
     "metadata": {},
     "output_type": "execute_result"
    }
   ],
   "source": [
    "calculate_sum(3,5)"
   ]
  },
  {
   "cell_type": "markdown",
   "id": "aab62480-ffc7-4553-9350-7877a858916a",
   "metadata": {},
   "source": [
    "# 표준 입력과 표준 출력"
   ]
  },
  {
   "cell_type": "code",
   "execution_count": 26,
   "id": "b20303d4-146c-4d70-afd3-f66f6878d912",
   "metadata": {},
   "outputs": [
    {
     "data": {
      "text/plain": [
       "10"
      ]
     },
     "execution_count": 26,
     "metadata": {},
     "output_type": "execute_result"
    }
   ],
   "source": [
    "12345\n",
    "10\n",
    "# ipython 의 기본 라이브러리\n",
    "# print(12345)"
   ]
  },
  {
   "cell_type": "code",
   "execution_count": 32,
   "id": "94da9af6-69d4-48ca-8f89-53bae90e6568",
   "metadata": {},
   "outputs": [
    {
     "data": {
      "text/plain": [
       "'12345'"
      ]
     },
     "execution_count": 32,
     "metadata": {},
     "output_type": "execute_result"
    }
   ],
   "source": [
    "'12345' # 이거는 문자열"
   ]
  },
  {
   "cell_type": "code",
   "execution_count": 31,
   "id": "8da41471-4977-486d-bed6-86ddfbc80cbf",
   "metadata": {},
   "outputs": [],
   "source": [
    "#'12345'+10 #typeerror"
   ]
  },
  {
   "cell_type": "code",
   "execution_count": 33,
   "id": "1552813f-dfd7-4672-bf41-ecdd439daadb",
   "metadata": {},
   "outputs": [
    {
     "name": "stdin",
     "output_type": "stream",
     "text": [
      "당신의 이름을 입력하세요 김다은\n"
     ]
    },
    {
     "data": {
      "text/plain": [
       "'김다은'"
      ]
     },
     "execution_count": 33,
     "metadata": {},
     "output_type": "execute_result"
    }
   ],
   "source": [
    "input('당신의 이름을 입력하세요')"
   ]
  },
  {
   "cell_type": "code",
   "execution_count": 34,
   "id": "0f26e300-91bd-41fe-af1e-d302e9755fde",
   "metadata": {},
   "outputs": [
    {
     "name": "stdin",
     "output_type": "stream",
     "text": [
      "당신의 나이를 입력하세여 25\n"
     ]
    },
    {
     "data": {
      "text/plain": [
       "'25'"
      ]
     },
     "execution_count": 34,
     "metadata": {},
     "output_type": "execute_result"
    }
   ],
   "source": [
    "input('당신의 나이를 입력하세여') # input으로 받으면 모두 문자"
   ]
  },
  {
   "cell_type": "code",
   "execution_count": 38,
   "id": "a5d28a08-bbbd-4b9d-95c3-ea08a7e2b77f",
   "metadata": {},
   "outputs": [
    {
     "name": "stdin",
     "output_type": "stream",
     "text": [
      "당신의 나이를 입력하시야 30\n"
     ]
    }
   ],
   "source": [
    "age=input('당신의 나이를 입력하시야')"
   ]
  },
  {
   "cell_type": "code",
   "execution_count": 39,
   "id": "fb3b1531-289d-4b10-a057-453086ede8a7",
   "metadata": {},
   "outputs": [
    {
     "data": {
      "text/plain": [
       "'30'"
      ]
     },
     "execution_count": 39,
     "metadata": {},
     "output_type": "execute_result"
    }
   ],
   "source": [
    "age"
   ]
  },
  {
   "cell_type": "code",
   "execution_count": 40,
   "id": "1025e4e6-a523-48e2-94d3-33bc0a2255bb",
   "metadata": {},
   "outputs": [
    {
     "name": "stdin",
     "output_type": "stream",
     "text": [
      "입력받은 이름을 출력하세오 김다은\n"
     ]
    }
   ],
   "source": [
    "name = input(\"입력받은 이름을 출력하세오\")"
   ]
  },
  {
   "cell_type": "code",
   "execution_count": 41,
   "id": "bc88595f-4ca0-4377-9473-fb4670ed163a",
   "metadata": {},
   "outputs": [
    {
     "data": {
      "text/plain": [
       "'김다은'"
      ]
     },
     "execution_count": 41,
     "metadata": {},
     "output_type": "execute_result"
    }
   ],
   "source": [
    "name"
   ]
  },
  {
   "cell_type": "code",
   "execution_count": 42,
   "id": "b985eb71-6eef-4638-b1e6-67824f7d676a",
   "metadata": {},
   "outputs": [
    {
     "data": {
      "text/plain": [
       "('30', '김다은')"
      ]
     },
     "execution_count": 42,
     "metadata": {},
     "output_type": "execute_result"
    }
   ],
   "source": [
    "age,name"
   ]
  },
  {
   "cell_type": "code",
   "execution_count": 43,
   "id": "b6a6ff13-711a-41b7-9fcc-318138ba21f6",
   "metadata": {},
   "outputs": [
    {
     "name": "stdout",
     "output_type": "stream",
     "text": [
      "30 김다은\n"
     ]
    }
   ],
   "source": [
    "print(age,name)"
   ]
  },
  {
   "cell_type": "code",
   "execution_count": 45,
   "id": "69a855bd-6826-448f-af4b-899ffcaacfc3",
   "metadata": {},
   "outputs": [
    {
     "name": "stdout",
     "output_type": "stream",
     "text": [
      "나는  김다은 이고 나이는 30 입니다.\n"
     ]
    }
   ],
   "source": [
    "print('나는 ',name,'이고 나이는',age,'입니다.')ㄹ"
   ]
  },
  {
   "cell_type": "code",
   "execution_count": 47,
   "id": "3a4b2a59-950b-4f21-8051-d2545222fe08",
   "metadata": {},
   "outputs": [
    {
     "name": "stdout",
     "output_type": "stream",
     "text": [
      "나는 김다은이고 나이는30입니다.\n"
     ]
    }
   ],
   "source": [
    "print('나는 '+name+'이고 나이는'+age+'입니다.')"
   ]
  },
  {
   "cell_type": "code",
   "execution_count": 48,
   "id": "6143c5b2-9c5b-420d-b86f-a3b7a1800a34",
   "metadata": {},
   "outputs": [
    {
     "data": {
      "text/plain": [
       "30"
      ]
     },
     "execution_count": 48,
     "metadata": {},
     "output_type": "execute_result"
    }
   ],
   "source": [
    "int(age)"
   ]
  },
  {
   "cell_type": "code",
   "execution_count": 49,
   "id": "02df057c-a0dd-440f-a1df-ce548aefd3ef",
   "metadata": {},
   "outputs": [
    {
     "data": {
      "text/plain": [
       "30"
      ]
     },
     "execution_count": 49,
     "metadata": {},
     "output_type": "execute_result"
    }
   ],
   "source": [
    "age= int(age)\n",
    "age"
   ]
  },
  {
   "cell_type": "markdown",
   "id": "333b6525-d871-4806-ad32-1e51fc9962c9",
   "metadata": {},
   "source": [
    "# 연습"
   ]
  },
  {
   "cell_type": "code",
   "execution_count": 52,
   "id": "ee3cc2a7-17f4-47be-aba6-ee4755ef2548",
   "metadata": {},
   "outputs": [
    {
     "name": "stdout",
     "output_type": "stream",
     "text": [
      "김:김밥천국에서\n",
      "다:다시마 빼달라고 했는데\n",
      "은:은근슬쩍 또 넣었네\n"
     ]
    }
   ],
   "source": [
    "# 자신의 이름으로 삼행시\n",
    "\n",
    "print('김:김밥천국에서')\n",
    "print('다:다시마 빼달라고 했는데')\n",
    "print('은:은근슬쩍 또 넣었네')"
   ]
  },
  {
   "cell_type": "code",
   "execution_count": 53,
   "id": "9a4d31c7-3f46-4d0b-ab65-914beaeb1566",
   "metadata": {},
   "outputs": [
    {
     "name": "stdin",
     "output_type": "stream",
     "text": [
      "김: 김밥천국에서\n",
      "다: 다시ㅏㅁ 빼달라니께\n",
      "은: 은근슬쩍 넣는것봐 다신안가\n"
     ]
    },
    {
     "name": "stdout",
     "output_type": "stream",
     "text": [
      "김밥천국에서 다시ㅏㅁ 빼달라니께 은근슬쩍 넣는것봐 다신안가\n"
     ]
    }
   ],
   "source": [
    "line1= input('김:')\n",
    "line2= input(\"다:\")\n",
    "line3= input(\"은:\")\n",
    "print(line1,line2,line3)"
   ]
  },
  {
   "cell_type": "code",
   "execution_count": 55,
   "id": "b739d6f7-11d8-4f51-8887-898fabe84021",
   "metadata": {},
   "outputs": [
    {
     "name": "stdout",
     "output_type": "stream",
     "text": [
      "김밥천국에서!다시ㅏㅁ 빼달라니께!은근슬쩍 넣는것봐 다신안가\n"
     ]
    }
   ],
   "source": [
    "print(line1,line2,line3,sep='!')"
   ]
  },
  {
   "cell_type": "code",
   "execution_count": 58,
   "id": "a783584a-719d-4fa1-8fc8-f26493f8eaba",
   "metadata": {},
   "outputs": [
    {
     "name": "stdout",
     "output_type": "stream",
     "text": [
      "김밥천국에서\n",
      "다시ㅏㅁ 빼달라니께\n",
      "은근슬쩍 넣는것봐 다신안가\n"
     ]
    }
   ],
   "source": [
    "print(line1,line2,line3,sep='\\n') # 줄바꿈기호: 이스케이프, 특수문자"
   ]
  },
  {
   "cell_type": "code",
   "execution_count": 60,
   "id": "02539b36-58b5-498c-949b-fb08f9f178e7",
   "metadata": {},
   "outputs": [
    {
     "data": {
      "text/plain": [
       "'김밥천국에서다시ㅏㅁ 빼달라니께은근슬쩍 넣는것봐 다신안가'"
      ]
     },
     "execution_count": 60,
     "metadata": {},
     "output_type": "execute_result"
    }
   ],
   "source": [
    "삼행시 = line1+line2+line3\n",
    "삼행시"
   ]
  },
  {
   "cell_type": "code",
   "execution_count": 62,
   "id": "021822f3-922a-4aad-ad7d-116d88c52f67",
   "metadata": {},
   "outputs": [
    {
     "name": "stdout",
     "output_type": "stream",
     "text": [
      "김밥천국에서\n",
      "다시ㅏㅁ 빼달라니께\n",
      "은근슬쩍 넣는것봐 다신안가\n"
     ]
    }
   ],
   "source": [
    "삼행시 = line1+'\\n'+line2+'\\n'+line3\n",
    "print(삼행시)"
   ]
  },
  {
   "cell_type": "markdown",
   "id": "7f8fa6a0-f5c6-4adb-9962-6c7ed845d3a8",
   "metadata": {},
   "source": [
    "# 변수"
   ]
  },
  {
   "cell_type": "markdown",
   "id": "defb93f0-6abb-4de8-859b-451a97cbecad",
   "metadata": {},
   "source": [
    "변수 type safe   \n",
    "변수를 선언할 떄 타입(유형)을 지정하지 않아도 되는 특성   \n",
    "변수 = 값 # 마크다운 공백 3개를 넣으면 줄바꿈가능\n",
    "\n",
    "## 변수 명명 규칙**\n",
    "1. 문자, 숫자, 밑줄을 가지고 만든다.\n",
    "2. 숫자로 시작하면 안된다\n",
    "3. 대소문자를 구분한다\n",
    "4. 예약어와 공백, 특수기호의 사용을 하면 안된다."
   ]
  },
  {
   "cell_type": "code",
   "execution_count": 63,
   "id": "4068d711-7d5f-4e12-8241-415b46f6d415",
   "metadata": {},
   "outputs": [
    {
     "data": {
      "text/plain": [
       "(int, str, float)"
      ]
     },
     "execution_count": 63,
     "metadata": {},
     "output_type": "execute_result"
    }
   ],
   "source": [
    "x=10\n",
    "y='hello'\n",
    "z=3.141592\n",
    "type(x),type(y),type(z)"
   ]
  },
  {
   "cell_type": "code",
   "execution_count": 64,
   "id": "684d14f9-422d-4cfe-bc92-8ad9c751154d",
   "metadata": {},
   "outputs": [
    {
     "name": "stdout",
     "output_type": "stream",
     "text": [
      "<class 'int'> <class 'str'> <class 'float'>\n"
     ]
    }
   ],
   "source": [
    "print(type(x),type(y),type(z))"
   ]
  },
  {
   "cell_type": "code",
   "execution_count": 65,
   "id": "4682daf7-d337-4e82-b3c0-6cfacde753f3",
   "metadata": {},
   "outputs": [
    {
     "name": "stdout",
     "output_type": "stream",
     "text": [
      "10 20 30\n"
     ]
    }
   ],
   "source": [
    "a,b,c = 10,20,30\n",
    "print(a,b,c)"
   ]
  },
  {
   "cell_type": "code",
   "execution_count": 66,
   "id": "ec89ed0b-7dd4-4558-aafe-bba0bc35adf4",
   "metadata": {},
   "outputs": [],
   "source": [
    "a=10\n",
    "b=20\n",
    "c=30\n",
    "\n",
    "a=10;b=20;c=30"
   ]
  },
  {
   "cell_type": "code",
   "execution_count": 68,
   "id": "dd835255-e079-41ce-840e-40049a0c5bbf",
   "metadata": {},
   "outputs": [
    {
     "data": {
      "text/plain": [
       "(True, None)"
      ]
     },
     "execution_count": 68,
     "metadata": {},
     "output_type": "execute_result"
    }
   ],
   "source": [
    "d= True # bool\n",
    "e= None # type이 Nonetype\n",
    "d,e"
   ]
  },
  {
   "cell_type": "code",
   "execution_count": 72,
   "id": "b4f1379c-7993-4920-975c-4dd99a5f5d6a",
   "metadata": {},
   "outputs": [
    {
     "name": "stdout",
     "output_type": "stream",
     "text": [
      "10 10\n"
     ]
    }
   ],
   "source": [
    "a= 10\n",
    "b= a\n",
    "print(a,b)"
   ]
  },
  {
   "cell_type": "code",
   "execution_count": 75,
   "id": "a7cd1797-94eb-46a6-a786-ffce00fc38f9",
   "metadata": {},
   "outputs": [
    {
     "name": "stdout",
     "output_type": "stream",
     "text": [
      "20 20\n"
     ]
    }
   ],
   "source": [
    "a= 20\n",
    "b =20\n",
    "print(a,b)"
   ]
  },
  {
   "cell_type": "code",
   "execution_count": 76,
   "id": "ca3b34b4-65a1-47a1-94cd-7ba939ce10c2",
   "metadata": {},
   "outputs": [
    {
     "data": {
      "text/plain": [
       "(140715060399128, 140715060399128)"
      ]
     },
     "execution_count": 76,
     "metadata": {},
     "output_type": "execute_result"
    }
   ],
   "source": [
    "id(a),id(b) # 원래는 다르지만 파이썬은 성능 최적화를 위헤 미리 메모리에 올려주고 재사용: 작은 정수는 캐싱"
   ]
  },
  {
   "cell_type": "code",
   "execution_count": 77,
   "id": "4867f0f9-7f01-4c06-ba9d-cdd99c958010",
   "metadata": {},
   "outputs": [],
   "source": [
    "# 의미를 부여하기 어려운 변수명\n",
    "x=100\n",
    "y=100\n",
    "\n",
    "# 의미가 있는 변수명\n",
    "age=20\n",
    "name='김다은'\n",
    "user_name = 'Kim'\n",
    "\n",
    "# 대문자 Upper-case 상수에 사용\n",
    "PI = 3.141592\n",
    "MAX_CONNETION = 10\n",
    "MIN_VALUE=0\n"
   ]
  },
  {
   "cell_type": "markdown",
   "id": "22dedb09-d17c-40e8-b1d7-fb75e2b62851",
   "metadata": {},
   "source": [
    "# 변수의 유효범위\n",
    "\n",
    "- 지역변수: 함수 영역 내에서 선언한 함수\n",
    "- 전역변수: 함수 영역 밖에서 선언한 변수, global키워드\n",
    "- 정적변수: 프로그램이 실행되는 동안 메모리에 계속 존재하는 변수"
   ]
  },
  {
   "cell_type": "code",
   "execution_count": 79,
   "id": "03cfd88f-5dbe-42e8-a2be-6b88a9a7ac72",
   "metadata": {},
   "outputs": [
    {
     "ename": "NameError",
     "evalue": "name 'local_var' is not defined",
     "output_type": "error",
     "traceback": [
      "\u001b[31m---------------------------------------------------------------------------\u001b[39m",
      "\u001b[31mNameError\u001b[39m                                 Traceback (most recent call last)",
      "\u001b[36mCell\u001b[39m\u001b[36m \u001b[39m\u001b[32mIn[79]\u001b[39m\u001b[32m, line 5\u001b[39m\n\u001b[32m      2\u001b[39m     local_var=\u001b[32m10\u001b[39m\n\u001b[32m      3\u001b[39m     \u001b[38;5;28mprint\u001b[39m(\u001b[33m\"\u001b[39m\u001b[33m여기는 함수의 영역입니다.\u001b[39m\u001b[33m\"\u001b[39m+local_var)\n\u001b[32m----> \u001b[39m\u001b[32m5\u001b[39m local_var\n",
      "\u001b[31mNameError\u001b[39m: name 'local_var' is not defined"
     ]
    }
   ],
   "source": [
    "# 지역변수\n",
    "def local_example():\n",
    "    local_var=10\n",
    "    print(\"여기는 함수의 영역입니다.\"+local_var)\n",
    "\n",
    "local_var"
   ]
  },
  {
   "cell_type": "code",
   "execution_count": 80,
   "id": "0ce01fcd-773f-4d96-8e17-78b56caef25e",
   "metadata": {},
   "outputs": [
    {
     "name": "stdout",
     "output_type": "stream",
     "text": [
      "여기는 함수의 영역입니다. 10\n"
     ]
    }
   ],
   "source": [
    "# 지역변수\n",
    "def local_example():\n",
    "    local_var=10\n",
    "    print(\"여기는 함수의 영역입니다.\",local_var)\n",
    "\n",
    "local_example()"
   ]
  },
  {
   "cell_type": "code",
   "execution_count": 82,
   "id": "a7079429-c778-4080-8f80-2ac2f89164d4",
   "metadata": {},
   "outputs": [
    {
     "name": "stdout",
     "output_type": "stream",
     "text": [
      "이것은 전역변수입니다.\n"
     ]
    }
   ],
   "source": [
    "# 전역변수\n",
    "gobal_var = '이것은 전역변수입니다.'\n",
    "\n",
    "def gobal_example():\n",
    "    print(gobal_var)\n",
    "\n",
    "gobal_example()"
   ]
  },
  {
   "cell_type": "code",
   "execution_count": 87,
   "id": "67c48e3e-97a6-4be3-af8a-d3aeb272b76e",
   "metadata": {},
   "outputs": [
    {
     "name": "stdout",
     "output_type": "stream",
     "text": [
      "100\n",
      "100\n"
     ]
    }
   ],
   "source": [
    "# 전역변수\n",
    "global_var = '이것은 전역변수입니다.'\n",
    "\n",
    "def global_example():\n",
    "    global global_var\n",
    "    global_var=100\n",
    "    print(global_var)\n",
    "\n",
    "global_example()\n",
    "print(global_var)"
   ]
  },
  {
   "cell_type": "code",
   "execution_count": 105,
   "id": "2f81dc62-0802-4c5e-8ee3-60bf0b691fff",
   "metadata": {},
   "outputs": [
    {
     "name": "stdout",
     "output_type": "stream",
     "text": [
      "카운터: 1\n",
      "카운터: 2\n",
      "카운터: 3\n"
     ]
    }
   ],
   "source": [
    "# 변수 영역 연습\n",
    "counter=0\n",
    "\n",
    "def increament_counter():\n",
    "    global counter\n",
    "    counter +=1\n",
    "    print('카운터:',counter)\n",
    "\n",
    "increament_counter()\n",
    "increament_counter()\n",
    "increament_counter()"
   ]
  },
  {
   "cell_type": "markdown",
   "id": "512df712-4ad6-454e-9e9c-5f9589df0d12",
   "metadata": {},
   "source": [
    "# 교재 변수 연습"
   ]
  },
  {
   "cell_type": "code",
   "execution_count": 106,
   "id": "eb209808-460c-406b-a78a-c6137d1fd8af",
   "metadata": {},
   "outputs": [],
   "source": [
    "a=1\n",
    "b='python'\n",
    "c=[1,2,3]"
   ]
  },
  {
   "cell_type": "code",
   "execution_count": 108,
   "id": "22e41eb4-ee2e-438e-9b43-2676beb34b9d",
   "metadata": {},
   "outputs": [
    {
     "data": {
      "text/plain": [
       "[1, 2, 3]"
      ]
     },
     "execution_count": 108,
     "metadata": {},
     "output_type": "execute_result"
    }
   ],
   "source": [
    "a = [1,2,3]\n",
    "b = a[:]\n",
    "a[1] = 4\n",
    "a\n",
    "b"
   ]
  },
  {
   "cell_type": "code",
   "execution_count": 109,
   "id": "13b39be5-de7b-4157-bc51-e6436c194b77",
   "metadata": {},
   "outputs": [],
   "source": [
    "from copy import copy\n",
    "a=[1,2,3]\n",
    "b= copy(a)"
   ]
  },
  {
   "cell_type": "code",
   "execution_count": 110,
   "id": "90b9f9bb-5072-4bfb-b536-15aa2943bdf5",
   "metadata": {},
   "outputs": [
    {
     "data": {
      "text/plain": [
       "False"
      ]
     },
     "execution_count": 110,
     "metadata": {},
     "output_type": "execute_result"
    }
   ],
   "source": [
    "b is a # 두 변수의 값은 같지만 서로 다른 객체를 가리키고 있음."
   ]
  },
  {
   "cell_type": "code",
   "execution_count": 111,
   "id": "22d6a7f4-3762-4324-a016-1dfba7e89f57",
   "metadata": {},
   "outputs": [],
   "source": [
    "a,b = ('python','life')"
   ]
  },
  {
   "cell_type": "code",
   "execution_count": 113,
   "id": "aaf7280f-3e78-46c0-b96d-de730bf68873",
   "metadata": {},
   "outputs": [],
   "source": [
    "[a,b] = ['python','life']"
   ]
  },
  {
   "cell_type": "code",
   "execution_count": 114,
   "id": "9398840b-ef6c-4e7a-b852-d9d9e39ebd7b",
   "metadata": {},
   "outputs": [],
   "source": [
    "a = b = 'python'"
   ]
  },
  {
   "cell_type": "code",
   "execution_count": 115,
   "id": "da8e234a-374c-4805-8a5d-8cee1fcae788",
   "metadata": {},
   "outputs": [
    {
     "data": {
      "text/plain": [
       "5"
      ]
     },
     "execution_count": 115,
     "metadata": {},
     "output_type": "execute_result"
    }
   ],
   "source": [
    "a=3\n",
    "b=5\n",
    "a,b=b,a\n",
    "a"
   ]
  },
  {
   "cell_type": "code",
   "execution_count": 116,
   "id": "0922a121-4979-4f4e-ab7b-6dfccc76dddb",
   "metadata": {},
   "outputs": [
    {
     "data": {
      "text/plain": [
       "3"
      ]
     },
     "execution_count": 116,
     "metadata": {},
     "output_type": "execute_result"
    }
   ],
   "source": [
    "b"
   ]
  },
  {
   "cell_type": "markdown",
   "id": "482d231e-a95c-46be-b4f8-181d94f0a091",
   "metadata": {},
   "source": [
    "# 자료형\n",
    "\n",
    "- 기본자료형: 숫자형, 문자형, 부울형\n",
    "- 복합자료형: 리스트, 셋, 튜플, 딕셔너리"
   ]
  },
  {
   "cell_type": "markdown",
   "id": "1de34ceb-1ece-4b4d-8a38-9b2d39b94811",
   "metadata": {},
   "source": [
    "| 자료형 | 설명 | 예시 |\n",
    "|--------|--------|--------|\n",
    "| 정수형 (int) | 정수를 저장하는 자료형 | 1, -5, 100 |\n",
    "| 실수형 (float) | 소수점이 있는 숫자를 저장하는 자료형 | 3.14, -0.001, 2.0 |\n",
    "| 문자열 (str) | 텍스트를 저장하는 자료형 | \"Hello\", '파이썬' |\n",
    "| 논리형 (bool) | 참/거짓 값을 저장하는 자료형 | True, False |"
   ]
  },
  {
   "cell_type": "code",
   "execution_count": null,
   "id": "27e3e009-aaab-40da-8c0f-702b7b0144c4",
   "metadata": {},
   "outputs": [],
   "source": [
    "- 수정이 불가능한 데이터타입: 수치형(int)"
   ]
  },
  {
   "cell_type": "code",
   "execution_count": 118,
   "id": "e0f15840-ba3c-4f88-bdd2-0c48c2a8c7b6",
   "metadata": {},
   "outputs": [
    {
     "data": {
      "text/plain": [
       "int"
      ]
     },
     "execution_count": 118,
     "metadata": {},
     "output_type": "execute_result"
    }
   ],
   "source": [
    "age= 20\n",
    "type(20)"
   ]
  },
  {
   "cell_type": "markdown",
   "id": "77abe11f-f15a-4678-b63e-f3e9bffd1538",
   "metadata": {},
   "source": [
    "1. 진법: 10,2,8,16 진수\n",
    "2. 입력하는 방법은 다르지만, print()로 출력하면 결과는 동일합니다.\n"
   ]
  },
  {
   "cell_type": "code",
   "execution_count": 119,
   "id": "1ca5c737-bdb2-49d8-8f33-e60177c25ec7",
   "metadata": {},
   "outputs": [
    {
     "data": {
      "text/plain": [
       "(10, 5)"
      ]
     },
     "execution_count": 119,
     "metadata": {},
     "output_type": "execute_result"
    }
   ],
   "source": [
    "a=10\n",
    "b=0b0101 #2진수\n",
    "a,b"
   ]
  },
  {
   "cell_type": "code",
   "execution_count": 127,
   "id": "8e42d5b4-b0ca-42d8-bf6a-3f256e4c88cb",
   "metadata": {},
   "outputs": [
    {
     "data": {
      "text/plain": [
       "float"
      ]
     },
     "execution_count": 127,
     "metadata": {},
     "output_type": "execute_result"
    }
   ],
   "source": [
    "# float\n",
    "\n",
    "b = 3.12\n",
    "type(b)"
   ]
  },
  {
   "cell_type": "markdown",
   "id": "294d051c-0159-449b-9697-ce58a505dfc1",
   "metadata": {},
   "source": [
    "지수의 표기 \n",
    "\n",
    "숫자e2 -> 10**2\n",
    "숫자e-2 -> 10**-2"
   ]
  },
  {
   "cell_type": "code",
   "execution_count": 130,
   "id": "e58e6910-eff1-4c33-bdd4-2a169582715b",
   "metadata": {},
   "outputs": [
    {
     "data": {
      "text/plain": [
       "100.0"
      ]
     },
     "execution_count": 130,
     "metadata": {},
     "output_type": "execute_result"
    }
   ],
   "source": [
    "a = 1e2\n",
    "a"
   ]
  },
  {
   "cell_type": "code",
   "execution_count": 133,
   "id": "10bfff09-e929-4589-ac04-9d4eec6e1a77",
   "metadata": {},
   "outputs": [
    {
     "ename": "NameError",
     "evalue": "name 'true' is not defined",
     "output_type": "error",
     "traceback": [
      "\u001b[31m---------------------------------------------------------------------------\u001b[39m",
      "\u001b[31mNameError\u001b[39m                                 Traceback (most recent call last)",
      "\u001b[36mCell\u001b[39m\u001b[36m \u001b[39m\u001b[32mIn[133]\u001b[39m\u001b[32m, line 5\u001b[39m\n\u001b[32m      1\u001b[39m \u001b[38;5;66;03m# boolean- True, False\u001b[39;00m\n\u001b[32m      2\u001b[39m \u001b[38;5;66;03m# 논리연산, 비교연산\u001b[39;00m\n\u001b[32m      4\u001b[39m a= \u001b[38;5;28;01mTrue\u001b[39;00m\n\u001b[32m----> \u001b[39m\u001b[32m5\u001b[39m b= true\n",
      "\u001b[31mNameError\u001b[39m: name 'true' is not defined"
     ]
    }
   ],
   "source": [
    "# boolean- True(1), False(0) \n",
    "# 논리연산, 비교연산\n",
    "\n",
    "a= True\n",
    "b= true  # true는 변수임, 'true'라고 해햐함."
   ]
  },
  {
   "cell_type": "code",
   "execution_count": 134,
   "id": "ee7d9dc5-641e-40bc-9e27-504de5b3ba85",
   "metadata": {},
   "outputs": [
    {
     "data": {
      "text/plain": [
       "1"
      ]
     },
     "execution_count": 134,
     "metadata": {},
     "output_type": "execute_result"
    }
   ],
   "source": [
    "# 논리연산자 and or not\n",
    "ba=True\n",
    "bc = 1; ba and bc"
   ]
  },
  {
   "cell_type": "code",
   "execution_count": 138,
   "id": "ff29b7fb-efff-42fb-8514-cc06ab1d0b3d",
   "metadata": {},
   "outputs": [
    {
     "name": "stdout",
     "output_type": "stream",
     "text": [
      "5 -1 6 0 2\n"
     ]
    }
   ],
   "source": [
    "# 사칙연산 +,-,*,//(몫),%(나머지)\n",
    "\n",
    "a=2\n",
    "b=3\n",
    "\n",
    "print(a+b, a-b, a*b, a//b, a%b)"
   ]
  },
  {
   "cell_type": "code",
   "execution_count": 139,
   "id": "9b3fbea6-10d1-4448-b94c-6a853413a8ad",
   "metadata": {},
   "outputs": [
    {
     "data": {
      "text/plain": [
       "False"
      ]
     },
     "execution_count": 139,
     "metadata": {},
     "output_type": "execute_result"
    }
   ],
   "source": [
    "# 비교연산자\n",
    "\n",
    "1+2 !=3"
   ]
  },
  {
   "cell_type": "code",
   "execution_count": 140,
   "id": "4228a09d-ea09-4273-9436-9de8068594d5",
   "metadata": {},
   "outputs": [
    {
     "name": "stdout",
     "output_type": "stream",
     "text": [
      "120 122\n"
     ]
    }
   ],
   "source": [
    "# 대입연산자\n",
    "a = 120\n",
    "b= a+2\n",
    "\n",
    "print(a,b)"
   ]
  },
  {
   "cell_type": "markdown",
   "id": "03c7bdf8-2003-4d5f-b505-6d1163b648d5",
   "metadata": {},
   "source": [
    "# 문자열 str \n",
    "','',\"\"\"\"\"\",''' ''' dorstring"
   ]
  },
  {
   "cell_type": "code",
   "execution_count": 141,
   "id": "e8776059-1949-4c54-9b9a-a509e69753b0",
   "metadata": {},
   "outputs": [
    {
     "data": {
      "text/plain": [
       "'pythonhello'"
      ]
     },
     "execution_count": 141,
     "metadata": {},
     "output_type": "execute_result"
    }
   ],
   "source": [
    "a= 'python'\n",
    "b= 'hello'\n",
    "a + b"
   ]
  },
  {
   "cell_type": "code",
   "execution_count": 142,
   "id": "70d33638-575c-4c32-b492-9ecb37f28650",
   "metadata": {},
   "outputs": [
    {
     "data": {
      "text/plain": [
       "'pythonpythonpythonpythonpythonpythonpythonpythonpythonpython'"
      ]
     },
     "execution_count": 142,
     "metadata": {},
     "output_type": "execute_result"
    }
   ],
   "source": [
    "a*10"
   ]
  },
  {
   "cell_type": "code",
   "execution_count": 143,
   "id": "351bf1ee-d91b-4c7a-847f-80b402faeb0f",
   "metadata": {},
   "outputs": [],
   "source": [
    "# 문자열에서도 비교연산이 가능하다. # 문자열은 리스트, 열거형"
   ]
  },
  {
   "cell_type": "code",
   "execution_count": 146,
   "id": "798cf901-32ac-4423-8245-23b1a17818da",
   "metadata": {},
   "outputs": [
    {
     "data": {
      "text/plain": [
       "'19ds5f9d65d'"
      ]
     },
     "execution_count": 146,
     "metadata": {},
     "output_type": "execute_result"
    }
   ],
   "source": [
    "a= '20019ds5f9d65d'\n",
    "a[3:]"
   ]
  },
  {
   "cell_type": "code",
   "execution_count": null,
   "id": "338c3116-726b-4d40-b2b8-404aee6e4009",
   "metadata": {},
   "outputs": [],
   "source": []
  }
 ],
 "metadata": {
  "kernelspec": {
   "display_name": "Python 3 (ipykernel)",
   "language": "python",
   "name": "python3"
  },
  "language_info": {
   "codemirror_mode": {
    "name": "ipython",
    "version": 3
   },
   "file_extension": ".py",
   "mimetype": "text/x-python",
   "name": "python",
   "nbconvert_exporter": "python",
   "pygments_lexer": "ipython3",
   "version": "3.12.1"
  }
 },
 "nbformat": 4,
 "nbformat_minor": 5
}
